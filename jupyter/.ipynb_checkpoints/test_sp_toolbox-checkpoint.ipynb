{
 "cells": [
  {
   "cell_type": "markdown",
   "metadata": {},
   "source": [
    "## test_sp_toolbox.ipynb\n",
    "### copied from SP's toolbox.ipynb 05/06/20\n",
    "- https://github.com/pothiers/pyphi/blob/sp-tools/notebooks/toolbox.ipynb"
   ]
  },
  {
   "cell_type": "code",
   "execution_count": null,
   "metadata": {},
   "outputs": [],
   "source": [
    "import networkx as nx\n",
    "from networkx.drawing.nx_pydot import pydot_layout\n",
    "\n",
    "import toolbox as tb\n",
    "import pyphi"
   ]
  },
  {
   "cell_type": "code",
   "execution_count": null,
   "metadata": {},
   "outputs": [],
   "source": [
    "ledges = [('A', 'C'), ('B', 'A'), ('B', 'C'), ('C', 'A'), ('C', 'B')]\n",
    "i,j = zip(*ledges)            \n",
    "indexLUT = dict([(l,ord(l)-ord('A')) for l in sorted(set(i+j))])\n",
    "edges = [(indexLUT[i],indexLUT[j]) for i,j in ledges]\n",
    "net = tb.Net(edges=edges)\n",
    "net.get_node('A').func = tb.or_func\n",
    "net.get_node('B').func = tb.copy_func\n",
    "net.get_node('C').func = tb.xor_func\n",
    "print(nx.info(net.graph))\n",
    "net.draw()\n",
    "print(net.get_node('A'))\n",
    "print(net.get_node('B'))\n",
    "print(net.get_node('C'))"
   ]
  },
  {
   "cell_type": "code",
   "execution_count": null,
   "metadata": {},
   "outputs": [],
   "source": [
    "df=net.tpm\n",
    "df"
   ]
  },
  {
   "cell_type": "code",
   "execution_count": null,
   "metadata": {},
   "outputs": [],
   "source": [
    "df.to_numpy()"
   ]
  },
  {
   "cell_type": "code",
   "execution_count": null,
   "metadata": {},
   "outputs": [],
   "source": [
    "print(f\"Probability distributions: {dict([(l,net.node_pd(net.get_node(l))) for l in list('ABC')])}\")"
   ]
  },
  {
   "cell_type": "code",
   "execution_count": null,
   "metadata": {},
   "outputs": [],
   "source": [
    "net.node_state_counts(net.get_node('A'))"
   ]
  },
  {
   "cell_type": "code",
   "execution_count": null,
   "metadata": {},
   "outputs": [],
   "source": [
    "net.eval_node(net.get_node('A'),(0,1,1))"
   ]
  },
  {
   "cell_type": "code",
   "execution_count": null,
   "metadata": {},
   "outputs": [],
   "source": [
    "net.pyphi_network"
   ]
  },
  {
   "cell_type": "code",
   "execution_count": null,
   "metadata": {},
   "outputs": [],
   "source": [
    "net.node_labels"
   ]
  },
  {
   "cell_type": "code",
   "execution_count": null,
   "metadata": {},
   "outputs": [],
   "source": [
    "net.phi('100')"
   ]
  },
  {
   "cell_type": "code",
   "execution_count": null,
   "metadata": {},
   "outputs": [],
   "source": [
    "net.phi('110')"
   ]
  },
  {
   "cell_type": "code",
   "execution_count": null,
   "metadata": {},
   "outputs": [],
   "source": [
    "net.phi('001')"
   ]
  },
  {
   "cell_type": "code",
   "execution_count": null,
   "metadata": {},
   "outputs": [],
   "source": [
    "net.phi('111')"
   ]
  },
  {
   "cell_type": "code",
   "execution_count": null,
   "metadata": {},
   "outputs": [],
   "source": [
    "net.phi('000')"
   ]
  },
  {
   "cell_type": "markdown",
   "metadata": {},
   "source": [
    "## 'STOP HERE' in SP's notebook: but I successfully ran everything below"
   ]
  },
  {
   "cell_type": "code",
   "execution_count": null,
   "metadata": {},
   "outputs": [],
   "source": [
    "ledges = [('A', 'D'), ('B', 'E'), ('C', 'E'), ('C', 'F'), \n",
    "          ('D', 'C'), ('D', 'E'), ('E', 'A'), ('E', 'B'), \n",
    "          ('E', 'F'), ('E', 'G'), ('F', 'C'), ('G', 'B')]\n",
    "i,j = zip(*ledges)            \n",
    "indexLUT = dict([(l,ord(l)-ord('A')) for l in sorted(set(i+j))])\n",
    "edges = [(indexLUT[i],indexLUT[j]) for i,j in ledges]\n",
    "net = tb.Net(edges=edges)\n",
    "print(nx.info(net.graph))\n",
    "net.draw()\n"
   ]
  },
  {
   "cell_type": "code",
   "execution_count": null,
   "metadata": {},
   "outputs": [],
   "source": [
    "#net.get_node('E').num_states = 3    # calc cannot handle this\n",
    "#net.get_node('E').func = tb.tri_func\n",
    "net.get_node('E').num_states = 2\n",
    "net.get_node('E').func = tb.or_func\n",
    "print(net.get_node('E'))\n",
    "print(net.get_node('A'))"
   ]
  },
  {
   "cell_type": "code",
   "execution_count": null,
   "metadata": {},
   "outputs": [],
   "source": [
    "net.node_labels"
   ]
  },
  {
   "cell_type": "code",
   "execution_count": null,
   "metadata": {},
   "outputs": [],
   "source": [
    "net.cm"
   ]
  },
  {
   "cell_type": "code",
   "execution_count": null,
   "metadata": {},
   "outputs": [],
   "source": [
    "net.tpm"
   ]
  },
  {
   "cell_type": "code",
   "execution_count": null,
   "metadata": {},
   "outputs": [],
   "source": [
    "net.phi() # 0001000 => 0.25"
   ]
  },
  {
   "cell_type": "code",
   "execution_count": null,
   "metadata": {},
   "outputs": [],
   "source": [
    "net.phi('0001000')"
   ]
  },
  {
   "cell_type": "code",
   "execution_count": null,
   "metadata": {},
   "outputs": [],
   "source": []
  }
 ],
 "metadata": {
  "kernelspec": {
   "display_name": "Python 3",
   "language": "python",
   "name": "python3"
  },
  "language_info": {
   "codemirror_mode": {
    "name": "ipython",
    "version": 3
   },
   "file_extension": ".py",
   "mimetype": "text/x-python",
   "name": "python",
   "nbconvert_exporter": "python",
   "pygments_lexer": "ipython3",
   "version": "3.6.9"
  }
 },
 "nbformat": 4,
 "nbformat_minor": 4
}
