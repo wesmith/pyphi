{
 "cells": [
  {
   "cell_type": "markdown",
   "metadata": {},
   "source": [
    "## ws_sp_toolbox.ipynb\n",
    "### run experiments with SP's toolbox\n",
    "### WESmith 05/07/20"
   ]
  },
  {
   "cell_type": "code",
   "execution_count": null,
   "metadata": {},
   "outputs": [],
   "source": [
    "import networkx as nx\n",
    "from networkx.drawing.nx_pydot import pydot_layout\n",
    "import toolbox as tb\n",
    "import pyphi\n",
    "import numpy as np\n",
    "import pandas as pd"
   ]
  },
  {
   "cell_type": "code",
   "execution_count": null,
   "metadata": {},
   "outputs": [],
   "source": [
    "def get_net(ledges, nodes, funcs, title=''):\n",
    "    # wrapper for SP tools\n",
    "    i, j = zip(*ledges)\n",
    "    indexLUT = dict([(l,ord(l)-ord(nodes[0])) for l in sorted(set(i+j))])\n",
    "    edges = [(indexLUT[i],indexLUT[j]) for i,j in ledges]\n",
    "    net = tb.Net(edges=edges, title=title)\n",
    "    for j,k in zip(nodes, funcs):\n",
    "        net.get_node(j).func = k\n",
    "    return net"
   ]
  },
  {
   "cell_type": "code",
   "execution_count": null,
   "metadata": {},
   "outputs": [],
   "source": [
    "def get_phi(perm):\n",
    "    try:\n",
    "        return net.phi(perm)\n",
    "    except:\n",
    "        return -1 # state isn't reachable"
   ]
  },
  {
   "cell_type": "code",
   "execution_count": null,
   "metadata": {},
   "outputs": [],
   "source": [
    "# example used in Mayner documents\n",
    "edges =  [('A', 'B'), ('A', 'C'), \n",
    "          ('B', 'A'), ('B', 'C'), \n",
    "          ('C', 'A'), ('C', 'B')]\n",
    "nodes = ['A', 'B', 'C']\n",
    "funcs = [tb.or_func, tb.and_func, tb.xor_func]"
   ]
  },
  {
   "cell_type": "code",
   "execution_count": null,
   "metadata": {},
   "outputs": [],
   "source": [
    "net = get_net(edges, nodes, funcs)"
   ]
  },
  {
   "cell_type": "code",
   "execution_count": null,
   "metadata": {},
   "outputs": [],
   "source": [
    "net.draw()"
   ]
  },
  {
   "cell_type": "code",
   "execution_count": null,
   "metadata": {},
   "outputs": [],
   "source": [
    "print(nx.info(net.graph))"
   ]
  },
  {
   "cell_type": "code",
   "execution_count": null,
   "metadata": {},
   "outputs": [],
   "source": [
    "for k in nodes:\n",
    "    print(net.get_node(k))"
   ]
  },
  {
   "cell_type": "code",
   "execution_count": null,
   "metadata": {},
   "outputs": [],
   "source": [
    "df=net.tpm\n",
    "df"
   ]
  },
  {
   "cell_type": "markdown",
   "metadata": {},
   "source": [
    "- above table agrees with slide 39 of pcbi.1006343.s001.pdf"
   ]
  },
  {
   "cell_type": "markdown",
   "metadata": {},
   "source": [
    "---"
   ]
  },
  {
   "cell_type": "code",
   "execution_count": null,
   "metadata": {},
   "outputs": [],
   "source": [
    "print(f\"Probability distributions: {dict([(l,net.node_pd(net.get_node(l))) for l in nodes])}\")"
   ]
  },
  {
   "cell_type": "markdown",
   "metadata": {},
   "source": [
    "- interpretation: from above table, A is on 75% of the time, B is on 25% of the time, C is on 50% of the time\n",
    "- this consistent with output"
   ]
  },
  {
   "cell_type": "markdown",
   "metadata": {},
   "source": [
    "---"
   ]
  },
  {
   "cell_type": "code",
   "execution_count": null,
   "metadata": {},
   "outputs": [],
   "source": [
    "for k in nodes:\n",
    "    print('{1}, {0}'.format(net.get_node(k), net.node_state_counts(net.get_node(k))))"
   ]
  },
  {
   "cell_type": "markdown",
   "metadata": {},
   "source": [
    "- above are truth tables for each node: how many times 0 shows, how many times 1 shows\n",
    "- eg: first one is 'or': 0 shows once, 1 shows three times"
   ]
  },
  {
   "cell_type": "markdown",
   "metadata": {},
   "source": [
    "---"
   ]
  },
  {
   "cell_type": "code",
   "execution_count": null,
   "metadata": {},
   "outputs": [],
   "source": [
    "state = (0,1,1)\n",
    "out = [net.eval_node(net.get_node(k), state) for k in nodes]\n",
    "out"
   ]
  },
  {
   "cell_type": "markdown",
   "metadata": {},
   "source": [
    "- this evaluates the output at t+1 for the node when system state is as given at t\n",
    "- above example reproduces one row of the TPM"
   ]
  },
  {
   "cell_type": "markdown",
   "metadata": {},
   "source": [
    "---"
   ]
  },
  {
   "cell_type": "code",
   "execution_count": null,
   "metadata": {},
   "outputs": [],
   "source": [
    "net.phi('100')"
   ]
  },
  {
   "cell_type": "markdown",
   "metadata": {},
   "source": [
    "- this phi agrees with phi from slide 227 of above-referenced pdf"
   ]
  },
  {
   "cell_type": "markdown",
   "metadata": {},
   "source": [
    "---"
   ]
  },
  {
   "cell_type": "code",
   "execution_count": null,
   "metadata": {},
   "outputs": [],
   "source": [
    "# make histogram of phi over alls states\n",
    "# need helper function because of try:\n",
    "dd = [(k, get_phi(k)) for k in df.index]"
   ]
  },
  {
   "cell_type": "code",
   "execution_count": null,
   "metadata": {},
   "outputs": [],
   "source": [
    "dd"
   ]
  },
  {
   "cell_type": "code",
   "execution_count": null,
   "metadata": {},
   "outputs": [],
   "source": [
    "dff = pd.DataFrame(dd)\n",
    "ax = dff.plot.hist(bins=100)"
   ]
  },
  {
   "cell_type": "markdown",
   "metadata": {},
   "source": [
    "---"
   ]
  },
  {
   "cell_type": "markdown",
   "metadata": {},
   "source": [
    "### now run two identical 3-node systems, bidirectionally coupled at a node"
   ]
  },
  {
   "cell_type": "code",
   "execution_count": null,
   "metadata": {},
   "outputs": [],
   "source": []
  }
 ],
 "metadata": {
  "kernelspec": {
   "display_name": "Python 3",
   "language": "python",
   "name": "python3"
  },
  "language_info": {
   "codemirror_mode": {
    "name": "ipython",
    "version": 3
   },
   "file_extension": ".py",
   "mimetype": "text/x-python",
   "name": "python",
   "nbconvert_exporter": "python",
   "pygments_lexer": "ipython3",
   "version": "3.6.9"
  }
 },
 "nbformat": 4,
 "nbformat_minor": 4
}
