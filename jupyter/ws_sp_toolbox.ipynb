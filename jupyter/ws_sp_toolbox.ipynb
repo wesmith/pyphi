{
 "cells": [
  {
   "cell_type": "markdown",
   "metadata": {},
   "source": [
    "## ws_sp_toolbox.ipynb\n",
    "### run experiments with SP's toolbox\n",
    "### WESmith 05/07/20"
   ]
  },
  {
   "cell_type": "code",
   "execution_count": 167,
   "metadata": {},
   "outputs": [],
   "source": [
    "import networkx as nx\n",
    "from networkx.drawing.nx_pydot import pydot_layout\n",
    "import toolbox as tb\n",
    "import pyphi\n",
    "import numpy as np\n",
    "import pandas as pd"
   ]
  },
  {
   "cell_type": "code",
   "execution_count": 168,
   "metadata": {},
   "outputs": [],
   "source": [
    "def get_net(ledges, nodes, funcs, title=''):\n",
    "    # wrapper for SP tools\n",
    "    i, j = zip(*ledges)\n",
    "    indexLUT = dict([(l,ord(l)-ord(nodes[0])) for l in sorted(set(i+j))])\n",
    "    edges = [(indexLUT[i],indexLUT[j]) for i,j in ledges]\n",
    "    net = tb.Net(edges=edges, title=title)\n",
    "    for j,k in zip(nodes, funcs):\n",
    "        net.get_node(j).func = k\n",
    "    return net"
   ]
  },
  {
   "cell_type": "code",
   "execution_count": 169,
   "metadata": {},
   "outputs": [],
   "source": [
    "def get_phi(perm):\n",
    "    try:\n",
    "        return net.phi(perm)\n",
    "    except:\n",
    "        return -1 # state isn't reachable"
   ]
  },
  {
   "cell_type": "code",
   "execution_count": 170,
   "metadata": {},
   "outputs": [],
   "source": [
    "# example used in Mayner documents\n",
    "edges =  [('A', 'B'), ('A', 'C'), \n",
    "          ('B', 'A'), ('B', 'C'), \n",
    "          ('C', 'A'), ('C', 'B')]\n",
    "nodes = ['A', 'B', 'C']\n",
    "funcs = [tb.or_func, tb.and_func, tb.xor_func]"
   ]
  },
  {
   "cell_type": "code",
   "execution_count": 171,
   "metadata": {},
   "outputs": [
    {
     "name": "stdout",
     "output_type": "stream",
     "text": [
      "edges=[(0, 1), (0, 2), (1, 0), (1, 2), (2, 0), (2, 1)] n_list=[0, 1, 2]\n"
     ]
    }
   ],
   "source": [
    "net = get_net(edges, nodes, funcs)"
   ]
  },
  {
   "cell_type": "code",
   "execution_count": 172,
   "metadata": {},
   "outputs": [
    {
     "data": {
      "text/plain": [
       "<toolbox.Net at 0x7f9578441940>"
      ]
     },
     "execution_count": 172,
     "metadata": {},
     "output_type": "execute_result"
    },
    {
     "data": {
      "image/png": "[encoded data removed]",
      "text/plain": [
       "<Figure size 432x288 with 1 Axes>"
      ]
     },
     "metadata": {},
     "output_type": "display_data"
    }
   ],
   "source": [
    "net.draw()"
   ]
  },
  {
   "cell_type": "code",
   "execution_count": 173,
   "metadata": {},
   "outputs": [
    {
     "name": "stdout",
     "output_type": "stream",
     "text": [
      "Name: \n",
      "Type: DiGraph\n",
      "Number of nodes: 3\n",
      "Number of edges: 6\n",
      "Average in degree:   2.0000\n",
      "Average out degree:   2.0000\n"
     ]
    }
   ],
   "source": [
    "print(nx.info(net.graph))"
   ]
  },
  {
   "cell_type": "code",
   "execution_count": 175,
   "metadata": {},
   "outputs": [
    {
     "data": {
      "text/html": [
       "<div>\n",
       "<style scoped>\n",
       "    .dataframe tbody tr th:only-of-type {\n",
       "        vertical-align: middle;\n",
       "    }\n",
       "\n",
       "    .dataframe tbody tr th {\n",
       "        vertical-align: top;\n",
       "    }\n",
       "\n",
       "    .dataframe thead th {\n",
       "        text-align: right;\n",
       "    }\n",
       "</style>\n",
       "<table border=\"1\" class=\"dataframe\">\n",
       "  <thead>\n",
       "    <tr style=\"text-align: right;\">\n",
       "      <th></th>\n",
       "      <th>A</th>\n",
       "      <th>B</th>\n",
       "      <th>C</th>\n",
       "    </tr>\n",
       "  </thead>\n",
       "  <tbody>\n",
       "    <tr>\n",
       "      <th>000</th>\n",
       "      <td>0</td>\n",
       "      <td>0</td>\n",
       "      <td>0</td>\n",
       "    </tr>\n",
       "    <tr>\n",
       "      <th>100</th>\n",
       "      <td>0</td>\n",
       "      <td>0</td>\n",
       "      <td>1</td>\n",
       "    </tr>\n",
       "    <tr>\n",
       "      <th>010</th>\n",
       "      <td>1</td>\n",
       "      <td>0</td>\n",
       "      <td>1</td>\n",
       "    </tr>\n",
       "    <tr>\n",
       "      <th>110</th>\n",
       "      <td>1</td>\n",
       "      <td>0</td>\n",
       "      <td>0</td>\n",
       "    </tr>\n",
       "    <tr>\n",
       "      <th>001</th>\n",
       "      <td>1</td>\n",
       "      <td>0</td>\n",
       "      <td>0</td>\n",
       "    </tr>\n",
       "    <tr>\n",
       "      <th>101</th>\n",
       "      <td>1</td>\n",
       "      <td>1</td>\n",
       "      <td>1</td>\n",
       "    </tr>\n",
       "    <tr>\n",
       "      <th>011</th>\n",
       "      <td>1</td>\n",
       "      <td>0</td>\n",
       "      <td>1</td>\n",
       "    </tr>\n",
       "    <tr>\n",
       "      <th>111</th>\n",
       "      <td>1</td>\n",
       "      <td>1</td>\n",
       "      <td>0</td>\n",
       "    </tr>\n",
       "  </tbody>\n",
       "</table>\n",
       "</div>"
      ],
      "text/plain": [
       "     A  B  C\n",
       "000  0  0  0\n",
       "100  0  0  1\n",
       "010  1  0  1\n",
       "110  1  0  0\n",
       "001  1  0  0\n",
       "101  1  1  1\n",
       "011  1  0  1\n",
       "111  1  1  0"
      ]
     },
     "execution_count": 175,
     "metadata": {},
     "output_type": "execute_result"
    }
   ],
   "source": [
    "df=net.tpm\n",
    "df"
   ]
  },
  {
   "cell_type": "markdown",
   "metadata": {},
   "source": [
    "- above table agrees with slide 39 of pcbi.1006343.s001.pdf"
   ]
  },
  {
   "cell_type": "markdown",
   "metadata": {},
   "source": [
    "---"
   ]
  },
  {
   "cell_type": "code",
   "execution_count": 176,
   "metadata": {},
   "outputs": [
    {
     "name": "stdout",
     "output_type": "stream",
     "text": [
      "Probability distributions: {'A': [0.25, 0.75], 'B': [0.75, 0.25], 'C': [0.5, 0.5]}\n"
     ]
    }
   ],
   "source": [
    "print(f\"Probability distributions: {dict([(l,net.node_pd(net.get_node(l))) for l in nodes])}\")"
   ]
  },
  {
   "cell_type": "markdown",
   "metadata": {},
   "source": [
    "- interpretation: from above table, A is on 75% of the time, B is on 25% of the time, C is on 50% of the time\n",
    "- this consistent with output"
   ]
  },
  {
   "cell_type": "markdown",
   "metadata": {},
   "source": [
    "---"
   ]
  },
  {
   "cell_type": "code",
   "execution_count": 177,
   "metadata": {},
   "outputs": [
    {
     "name": "stdout",
     "output_type": "stream",
     "text": [
      "Counter({1: 3, 0: 1}), A(0): 2,or_func\n",
      "Counter({0: 3, 1: 1}), B(1): 2,and_func\n",
      "Counter({0: 2, 1: 2}), C(2): 2,xor_func\n"
     ]
    }
   ],
   "source": [
    "for k in nodes:\n",
    "    print('{1}, {0}'.format(net.get_node(k), net.node_state_counts(net.get_node(k))))"
   ]
  },
  {
   "cell_type": "markdown",
   "metadata": {},
   "source": [
    "- above are truth tables for each node: how many times 0 shows, how many times 1 shows\n",
    "- eg: first one is 'or': 0 shows once, 1 shows three times"
   ]
  },
  {
   "cell_type": "markdown",
   "metadata": {},
   "source": [
    "---"
   ]
  },
  {
   "cell_type": "code",
   "execution_count": 178,
   "metadata": {},
   "outputs": [
    {
     "data": {
      "text/plain": [
       "[1, 0, 1]"
      ]
     },
     "execution_count": 178,
     "metadata": {},
     "output_type": "execute_result"
    }
   ],
   "source": [
    "state = (0,1,1)\n",
    "out = [net.eval_node(net.get_node(k), state) for k in nodes]\n",
    "out"
   ]
  },
  {
   "cell_type": "markdown",
   "metadata": {},
   "source": [
    "- this evaluates the output at t+1 for the node when system state is as given at t\n",
    "- above example reproduces one row of the TPM"
   ]
  },
  {
   "cell_type": "markdown",
   "metadata": {},
   "source": [
    "---"
   ]
  },
  {
   "cell_type": "code",
   "execution_count": 179,
   "metadata": {
    "collapsed": true
   },
   "outputs": [
    {
     "name": "stderr",
     "output_type": "stream",
     "text": [
      "\r",
      "Computing concepts:   0%|          | 0/7 [00:00<?, ?it/s]"
     ]
    },
    {
     "name": "stdout",
     "output_type": "stream",
     "text": [
      "Calculating Φ at state=[1, 0, 0]\n"
     ]
    },
    {
     "name": "stderr",
     "output_type": "stream",
     "text": [
      "                                                                 \r"
     ]
    },
    {
     "data": {
      "text/plain": [
       "1.916665"
      ]
     },
     "execution_count": 179,
     "metadata": {},
     "output_type": "execute_result"
    }
   ],
   "source": [
    "net.phi('100')"
   ]
  },
  {
   "cell_type": "markdown",
   "metadata": {},
   "source": [
    "- this phi agrees with phi from slide 227 of above-referenced pdf"
   ]
  },
  {
   "cell_type": "markdown",
   "metadata": {},
   "source": [
    "---"
   ]
  },
  {
   "cell_type": "code",
   "execution_count": 180,
   "metadata": {
    "collapsed": true
   },
   "outputs": [
    {
     "name": "stderr",
     "output_type": "stream",
     "text": [
      "\r",
      "Computing concepts:   0%|          | 0/7 [00:00<?, ?it/s]"
     ]
    },
    {
     "name": "stdout",
     "output_type": "stream",
     "text": [
      "Calculating Φ at state=[0, 0, 0]\n"
     ]
    },
    {
     "name": "stderr",
     "output_type": "stream",
     "text": [
      "Computing concepts:   0%|          | 0/7 [00:00<?, ?it/s]        "
     ]
    },
    {
     "name": "stdout",
     "output_type": "stream",
     "text": [
      "Calculating Φ at state=[1, 0, 0]\n"
     ]
    },
    {
     "name": "stderr",
     "output_type": "stream",
     "text": [
      "Computing concepts:   0%|          | 0/7 [00:00<?, ?it/s]        "
     ]
    },
    {
     "name": "stdout",
     "output_type": "stream",
     "text": [
      "Calculating Φ at state=[0, 1, 0]\n",
      "Calculating Φ at state=[1, 1, 0]\n"
     ]
    },
    {
     "name": "stderr",
     "output_type": "stream",
     "text": [
      "Computing concepts:   0%|          | 0/7 [00:00<?, ?it/s]        "
     ]
    },
    {
     "name": "stdout",
     "output_type": "stream",
     "text": [
      "Calculating Φ at state=[0, 0, 1]\n"
     ]
    },
    {
     "name": "stderr",
     "output_type": "stream",
     "text": [
      "Computing concepts:   0%|          | 0/7 [00:00<?, ?it/s]        "
     ]
    },
    {
     "name": "stdout",
     "output_type": "stream",
     "text": [
      "Calculating Φ at state=[1, 0, 1]\n"
     ]
    },
    {
     "name": "stderr",
     "output_type": "stream",
     "text": [
      "Computing concepts:   0%|          | 0/7 [00:00<?, ?it/s]        "
     ]
    },
    {
     "name": "stdout",
     "output_type": "stream",
     "text": [
      "Calculating Φ at state=[0, 1, 1]\n",
      "Calculating Φ at state=[1, 1, 1]\n"
     ]
    },
    {
     "name": "stderr",
     "output_type": "stream",
     "text": [
      "                                                                 \r"
     ]
    }
   ],
   "source": [
    "# make histogram of phi over alls states\n",
    "# need helper function because of try:\n",
    "dd = [(k, get_phi(k)) for k in df.index]"
   ]
  },
  {
   "cell_type": "code",
   "execution_count": 181,
   "metadata": {},
   "outputs": [
    {
     "data": {
      "text/plain": [
       "[('000', 0.666668),\n",
       " ('100', 1.916665),\n",
       " ('010', -1),\n",
       " ('110', 0.25),\n",
       " ('001', 0.25),\n",
       " ('101', 1.816667),\n",
       " ('011', -1),\n",
       " ('111', 0.666668)]"
      ]
     },
     "execution_count": 181,
     "metadata": {},
     "output_type": "execute_result"
    }
   ],
   "source": [
    "dd"
   ]
  },
  {
   "cell_type": "code",
   "execution_count": 182,
   "metadata": {},
   "outputs": [
    {
     "data": {
      "image/png": "[encoded data removed]",
      "text/plain": [
       "<Figure size 432x288 with 1 Axes>"
      ]
     },
     "metadata": {
      "needs_background": "light"
     },
     "output_type": "display_data"
    }
   ],
   "source": [
    "dff = pd.DataFrame(dd)\n",
    "ax = dff.plot.hist(bins=100)"
   ]
  },
  {
   "cell_type": "markdown",
   "metadata": {},
   "source": [
    "---"
   ]
  },
  {
   "cell_type": "markdown",
   "metadata": {},
   "source": [
    "## EXPERIMENT 001:  Two identical 3-node systems, bidirectionally coupled at an XOR node"
   ]
  },
  {
   "cell_type": "code",
   "execution_count": 183,
   "metadata": {},
   "outputs": [],
   "source": [
    "edges =  [('A', 'B'), ('A', 'C'), \n",
    "          ('B', 'A'), ('B', 'C'), \n",
    "          ('C', 'A'), ('C', 'B'),\n",
    "          ('D', 'E'), ('D', 'F'), \n",
    "          ('E', 'D'), ('E', 'F'), \n",
    "          ('F', 'D'), ('F', 'E'),\n",
    "          ('C', 'F'), ('F', 'C')  # xor's are bidirectionally coupled\n",
    "         ]\n",
    "nodes = ['A', 'B', 'C', 'D', 'E', 'F']\n",
    "funcs = [tb.or_func, tb.and_func, tb.xor_func, tb.or_func, tb.and_func, tb.xor_func]"
   ]
  },
  {
   "cell_type": "code",
   "execution_count": 184,
   "metadata": {},
   "outputs": [
    {
     "name": "stdout",
     "output_type": "stream",
     "text": [
      "edges=[(0, 1), (0, 2), (1, 0), (1, 2), (2, 0), (2, 1), (3, 4), (3, 5), (4, 3), (4, 5), (5, 3), (5, 4), (2, 5), (5, 2)] n_list=[0, 1, 2, 3, 4, 5]\n"
     ]
    },
    {
     "data": {
      "text/plain": [
       "<toolbox.Net at 0x7f95784ee0f0>"
      ]
     },
     "execution_count": 184,
     "metadata": {},
     "output_type": "execute_result"
    },
    {
     "data": {
      "image/png": "[encoded data removed]",
      "text/plain": [
       "<Figure size 432x288 with 1 Axes>"
      ]
     },
     "metadata": {},
     "output_type": "display_data"
    }
   ],
   "source": [
    "net = get_net(edges, nodes, funcs)\n",
    "net.draw()"
   ]
  },
  {
   "cell_type": "code",
   "execution_count": 185,
   "metadata": {},
   "outputs": [
    {
     "name": "stdout",
     "output_type": "stream",
     "text": [
      "Name: \n",
      "Type: DiGraph\n",
      "Number of nodes: 6\n",
      "Number of edges: 14\n",
      "Average in degree:   2.3333\n",
      "Average out degree:   2.3333\n"
     ]
    }
   ],
   "source": [
    "print(nx.info(net.graph))"
   ]
  },
  {
   "cell_type": "code",
   "execution_count": 186,
   "metadata": {
    "collapsed": true
   },
   "outputs": [
    {
     "data": {
      "text/html": [
       "<div>\n",
       "<style scoped>\n",
       "    .dataframe tbody tr th:only-of-type {\n",
       "        vertical-align: middle;\n",
       "    }\n",
       "\n",
       "    .dataframe tbody tr th {\n",
       "        vertical-align: top;\n",
       "    }\n",
       "\n",
       "    .dataframe thead th {\n",
       "        text-align: right;\n",
       "    }\n",
       "</style>\n",
       "<table border=\"1\" class=\"dataframe\">\n",
       "  <thead>\n",
       "    <tr style=\"text-align: right;\">\n",
       "      <th></th>\n",
       "      <th>A</th>\n",
       "      <th>B</th>\n",
       "      <th>C</th>\n",
       "      <th>D</th>\n",
       "      <th>E</th>\n",
       "      <th>F</th>\n",
       "    </tr>\n",
       "  </thead>\n",
       "  <tbody>\n",
       "    <tr>\n",
       "      <th>000000</th>\n",
       "      <td>0</td>\n",
       "      <td>0</td>\n",
       "      <td>0</td>\n",
       "      <td>0</td>\n",
       "      <td>0</td>\n",
       "      <td>0</td>\n",
       "    </tr>\n",
       "    <tr>\n",
       "      <th>100000</th>\n",
       "      <td>0</td>\n",
       "      <td>0</td>\n",
       "      <td>1</td>\n",
       "      <td>0</td>\n",
       "      <td>0</td>\n",
       "      <td>0</td>\n",
       "    </tr>\n",
       "    <tr>\n",
       "      <th>010000</th>\n",
       "      <td>1</td>\n",
       "      <td>0</td>\n",
       "      <td>1</td>\n",
       "      <td>0</td>\n",
       "      <td>0</td>\n",
       "      <td>0</td>\n",
       "    </tr>\n",
       "    <tr>\n",
       "      <th>110000</th>\n",
       "      <td>1</td>\n",
       "      <td>0</td>\n",
       "      <td>0</td>\n",
       "      <td>0</td>\n",
       "      <td>0</td>\n",
       "      <td>0</td>\n",
       "    </tr>\n",
       "    <tr>\n",
       "      <th>001000</th>\n",
       "      <td>1</td>\n",
       "      <td>0</td>\n",
       "      <td>0</td>\n",
       "      <td>0</td>\n",
       "      <td>0</td>\n",
       "      <td>1</td>\n",
       "    </tr>\n",
       "    <tr>\n",
       "      <th>...</th>\n",
       "      <td>...</td>\n",
       "      <td>...</td>\n",
       "      <td>...</td>\n",
       "      <td>...</td>\n",
       "      <td>...</td>\n",
       "      <td>...</td>\n",
       "    </tr>\n",
       "    <tr>\n",
       "      <th>110111</th>\n",
       "      <td>1</td>\n",
       "      <td>0</td>\n",
       "      <td>1</td>\n",
       "      <td>1</td>\n",
       "      <td>1</td>\n",
       "      <td>0</td>\n",
       "    </tr>\n",
       "    <tr>\n",
       "      <th>001111</th>\n",
       "      <td>1</td>\n",
       "      <td>0</td>\n",
       "      <td>1</td>\n",
       "      <td>1</td>\n",
       "      <td>1</td>\n",
       "      <td>1</td>\n",
       "    </tr>\n",
       "    <tr>\n",
       "      <th>101111</th>\n",
       "      <td>1</td>\n",
       "      <td>1</td>\n",
       "      <td>0</td>\n",
       "      <td>1</td>\n",
       "      <td>1</td>\n",
       "      <td>1</td>\n",
       "    </tr>\n",
       "    <tr>\n",
       "      <th>011111</th>\n",
       "      <td>1</td>\n",
       "      <td>0</td>\n",
       "      <td>0</td>\n",
       "      <td>1</td>\n",
       "      <td>1</td>\n",
       "      <td>1</td>\n",
       "    </tr>\n",
       "    <tr>\n",
       "      <th>111111</th>\n",
       "      <td>1</td>\n",
       "      <td>1</td>\n",
       "      <td>1</td>\n",
       "      <td>1</td>\n",
       "      <td>1</td>\n",
       "      <td>1</td>\n",
       "    </tr>\n",
       "  </tbody>\n",
       "</table>\n",
       "<p>64 rows × 6 columns</p>\n",
       "</div>"
      ],
      "text/plain": [
       "        A  B  C  D  E  F\n",
       "000000  0  0  0  0  0  0\n",
       "100000  0  0  1  0  0  0\n",
       "010000  1  0  1  0  0  0\n",
       "110000  1  0  0  0  0  0\n",
       "001000  1  0  0  0  0  1\n",
       "...    .. .. .. .. .. ..\n",
       "110111  1  0  1  1  1  0\n",
       "001111  1  0  1  1  1  1\n",
       "101111  1  1  0  1  1  1\n",
       "011111  1  0  0  1  1  1\n",
       "111111  1  1  1  1  1  1\n",
       "\n",
       "[64 rows x 6 columns]"
      ]
     },
     "execution_count": 186,
     "metadata": {},
     "output_type": "execute_result"
    }
   ],
   "source": [
    "df=net.tpm\n",
    "df"
   ]
  },
  {
   "cell_type": "code",
   "execution_count": 187,
   "metadata": {},
   "outputs": [
    {
     "name": "stdout",
     "output_type": "stream",
     "text": [
      "Probability distributions: {'A': [0.25, 0.75], 'B': [0.75, 0.25], 'C': [0.5, 0.5], 'D': [0.25, 0.75], 'E': [0.75, 0.25], 'F': [0.5, 0.5]}\n"
     ]
    }
   ],
   "source": [
    "print(f\"Probability distributions: {dict([(l,net.node_pd(net.get_node(l))) for l in nodes])}\")"
   ]
  },
  {
   "cell_type": "code",
   "execution_count": 188,
   "metadata": {
    "collapsed": true
   },
   "outputs": [
    {
     "name": "stdout",
     "output_type": "stream",
     "text": [
      "Counter({1: 3, 0: 1}), A(0): 2,or_func\n",
      "Counter({0: 3, 1: 1}), B(1): 2,and_func\n",
      "Counter({0: 4, 1: 4}), C(2): 2,xor_func\n",
      "Counter({1: 3, 0: 1}), D(3): 2,or_func\n",
      "Counter({0: 3, 1: 1}), E(4): 2,and_func\n",
      "Counter({0: 4, 1: 4}), F(5): 2,xor_func\n"
     ]
    }
   ],
   "source": [
    "for k in nodes:\n",
    "    print('{1}, {0}'.format(net.get_node(k), net.node_state_counts(net.get_node(k))))"
   ]
  },
  {
   "cell_type": "code",
   "execution_count": 189,
   "metadata": {
    "collapsed": true
   },
   "outputs": [
    {
     "name": "stderr",
     "output_type": "stream",
     "text": [
      "\r",
      "Computing concepts:   0%|          | 0/63 [00:00<?, ?it/s]"
     ]
    },
    {
     "name": "stdout",
     "output_type": "stream",
     "text": [
      "Calculating Φ at state=[0, 0, 0, 0, 0, 0]\n"
     ]
    },
    {
     "name": "stderr",
     "output_type": "stream",
     "text": [
      "Computing concepts:   0%|          | 0/63 [00:00<?, ?it/s]         "
     ]
    },
    {
     "name": "stdout",
     "output_type": "stream",
     "text": [
      "Calculating Φ at state=[1, 0, 0, 0, 0, 0]\n"
     ]
    },
    {
     "name": "stderr",
     "output_type": "stream",
     "text": [
      "Computing concepts:   0%|          | 0/63 [00:00<?, ?it/s]         "
     ]
    },
    {
     "name": "stdout",
     "output_type": "stream",
     "text": [
      "Calculating Φ at state=[0, 1, 0, 0, 0, 0]\n",
      "Calculating Φ at state=[1, 1, 0, 0, 0, 0]\n"
     ]
    },
    {
     "name": "stderr",
     "output_type": "stream",
     "text": [
      "Computing concepts:   0%|          | 0/63 [00:00<?, ?it/s]         "
     ]
    },
    {
     "name": "stdout",
     "output_type": "stream",
     "text": [
      "Calculating Φ at state=[0, 0, 1, 0, 0, 0]\n"
     ]
    },
    {
     "name": "stderr",
     "output_type": "stream",
     "text": [
      "Computing concepts:   0%|          | 0/63 [00:00<?, ?it/s]         "
     ]
    },
    {
     "name": "stdout",
     "output_type": "stream",
     "text": [
      "Calculating Φ at state=[1, 0, 1, 0, 0, 0]\n"
     ]
    },
    {
     "name": "stderr",
     "output_type": "stream",
     "text": [
      "Computing concepts:   0%|          | 0/63 [00:00<?, ?it/s]         "
     ]
    },
    {
     "name": "stdout",
     "output_type": "stream",
     "text": [
      "Calculating Φ at state=[0, 1, 1, 0, 0, 0]\n",
      "Calculating Φ at state=[1, 1, 1, 0, 0, 0]\n"
     ]
    },
    {
     "name": "stderr",
     "output_type": "stream",
     "text": [
      "Computing concepts:   0%|          | 0/63 [00:00<?, ?it/s]         "
     ]
    },
    {
     "name": "stdout",
     "output_type": "stream",
     "text": [
      "Calculating Φ at state=[0, 0, 0, 1, 0, 0]\n"
     ]
    },
    {
     "name": "stderr",
     "output_type": "stream",
     "text": [
      "Computing concepts:   0%|          | 0/63 [00:00<?, ?it/s]         "
     ]
    },
    {
     "name": "stdout",
     "output_type": "stream",
     "text": [
      "Calculating Φ at state=[1, 0, 0, 1, 0, 0]\n"
     ]
    },
    {
     "name": "stderr",
     "output_type": "stream",
     "text": [
      "Computing concepts:   0%|          | 0/63 [00:00<?, ?it/s]         "
     ]
    },
    {
     "name": "stdout",
     "output_type": "stream",
     "text": [
      "Calculating Φ at state=[0, 1, 0, 1, 0, 0]\n",
      "Calculating Φ at state=[1, 1, 0, 1, 0, 0]\n"
     ]
    },
    {
     "name": "stderr",
     "output_type": "stream",
     "text": [
      "Computing concepts:   0%|          | 0/63 [00:00<?, ?it/s]         "
     ]
    },
    {
     "name": "stdout",
     "output_type": "stream",
     "text": [
      "Calculating Φ at state=[0, 0, 1, 1, 0, 0]\n"
     ]
    },
    {
     "name": "stderr",
     "output_type": "stream",
     "text": [
      "Computing concepts:   0%|          | 0/63 [00:00<?, ?it/s]         "
     ]
    },
    {
     "name": "stdout",
     "output_type": "stream",
     "text": [
      "Calculating Φ at state=[1, 0, 1, 1, 0, 0]\n"
     ]
    },
    {
     "name": "stderr",
     "output_type": "stream",
     "text": [
      "Computing concepts:   0%|          | 0/63 [00:00<?, ?it/s]         "
     ]
    },
    {
     "name": "stdout",
     "output_type": "stream",
     "text": [
      "Calculating Φ at state=[0, 1, 1, 1, 0, 0]\n",
      "Calculating Φ at state=[1, 1, 1, 1, 0, 0]\n"
     ]
    },
    {
     "name": "stderr",
     "output_type": "stream",
     "text": [
      "                                                                   \r"
     ]
    },
    {
     "name": "stdout",
     "output_type": "stream",
     "text": [
      "Calculating Φ at state=[0, 0, 0, 0, 1, 0]\n",
      "Calculating Φ at state=[1, 0, 0, 0, 1, 0]\n",
      "Calculating Φ at state=[0, 1, 0, 0, 1, 0]\n",
      "Calculating Φ at state=[1, 1, 0, 0, 1, 0]\n",
      "Calculating Φ at state=[0, 0, 1, 0, 1, 0]\n",
      "Calculating Φ at state=[1, 0, 1, 0, 1, 0]\n",
      "Calculating Φ at state=[0, 1, 1, 0, 1, 0]\n",
      "Calculating Φ at state=[1, 1, 1, 0, 1, 0]\n"
     ]
    },
    {
     "name": "stderr",
     "output_type": "stream",
     "text": [
      "\r",
      "Computing concepts:   0%|          | 0/63 [00:00<?, ?it/s]"
     ]
    },
    {
     "name": "stdout",
     "output_type": "stream",
     "text": [
      "Calculating Φ at state=[0, 0, 0, 1, 1, 0]\n"
     ]
    },
    {
     "name": "stderr",
     "output_type": "stream",
     "text": [
      "Computing concepts:   0%|          | 0/63 [00:00<?, ?it/s]         "
     ]
    },
    {
     "name": "stdout",
     "output_type": "stream",
     "text": [
      "Calculating Φ at state=[1, 0, 0, 1, 1, 0]\n"
     ]
    },
    {
     "name": "stderr",
     "output_type": "stream",
     "text": [
      "Computing concepts:   0%|          | 0/63 [00:00<?, ?it/s]         "
     ]
    },
    {
     "name": "stdout",
     "output_type": "stream",
     "text": [
      "Calculating Φ at state=[0, 1, 0, 1, 1, 0]\n",
      "Calculating Φ at state=[1, 1, 0, 1, 1, 0]\n"
     ]
    },
    {
     "name": "stderr",
     "output_type": "stream",
     "text": [
      "Computing concepts:   0%|          | 0/63 [00:00<?, ?it/s]         "
     ]
    },
    {
     "name": "stdout",
     "output_type": "stream",
     "text": [
      "Calculating Φ at state=[0, 0, 1, 1, 1, 0]\n"
     ]
    },
    {
     "name": "stderr",
     "output_type": "stream",
     "text": [
      "Computing concepts:   0%|          | 0/63 [00:00<?, ?it/s]         "
     ]
    },
    {
     "name": "stdout",
     "output_type": "stream",
     "text": [
      "Calculating Φ at state=[1, 0, 1, 1, 1, 0]\n"
     ]
    },
    {
     "name": "stderr",
     "output_type": "stream",
     "text": [
      "Computing concepts:   0%|          | 0/63 [00:00<?, ?it/s]         "
     ]
    },
    {
     "name": "stdout",
     "output_type": "stream",
     "text": [
      "Calculating Φ at state=[0, 1, 1, 1, 1, 0]\n",
      "Calculating Φ at state=[1, 1, 1, 1, 1, 0]\n"
     ]
    },
    {
     "name": "stderr",
     "output_type": "stream",
     "text": [
      "Computing concepts:   0%|          | 0/63 [00:00<?, ?it/s]         "
     ]
    },
    {
     "name": "stdout",
     "output_type": "stream",
     "text": [
      "Calculating Φ at state=[0, 0, 0, 0, 0, 1]\n"
     ]
    },
    {
     "name": "stderr",
     "output_type": "stream",
     "text": [
      "Computing concepts:   0%|          | 0/63 [00:00<?, ?it/s]         "
     ]
    },
    {
     "name": "stdout",
     "output_type": "stream",
     "text": [
      "Calculating Φ at state=[1, 0, 0, 0, 0, 1]\n"
     ]
    },
    {
     "name": "stderr",
     "output_type": "stream",
     "text": [
      "Computing concepts:   0%|          | 0/63 [00:00<?, ?it/s]         "
     ]
    },
    {
     "name": "stdout",
     "output_type": "stream",
     "text": [
      "Calculating Φ at state=[0, 1, 0, 0, 0, 1]\n",
      "Calculating Φ at state=[1, 1, 0, 0, 0, 1]\n"
     ]
    },
    {
     "name": "stderr",
     "output_type": "stream",
     "text": [
      "Computing concepts:   0%|          | 0/63 [00:00<?, ?it/s]         "
     ]
    },
    {
     "name": "stdout",
     "output_type": "stream",
     "text": [
      "Calculating Φ at state=[0, 0, 1, 0, 0, 1]\n"
     ]
    },
    {
     "name": "stderr",
     "output_type": "stream",
     "text": [
      "Computing concepts:   0%|          | 0/63 [00:00<?, ?it/s]         "
     ]
    },
    {
     "name": "stdout",
     "output_type": "stream",
     "text": [
      "Calculating Φ at state=[1, 0, 1, 0, 0, 1]\n"
     ]
    },
    {
     "name": "stderr",
     "output_type": "stream",
     "text": [
      "Computing concepts:   0%|          | 0/63 [00:00<?, ?it/s]         "
     ]
    },
    {
     "name": "stdout",
     "output_type": "stream",
     "text": [
      "Calculating Φ at state=[0, 1, 1, 0, 0, 1]\n",
      "Calculating Φ at state=[1, 1, 1, 0, 0, 1]\n"
     ]
    },
    {
     "name": "stderr",
     "output_type": "stream",
     "text": [
      "Computing concepts:   0%|          | 0/63 [00:00<?, ?it/s]         "
     ]
    },
    {
     "name": "stdout",
     "output_type": "stream",
     "text": [
      "Calculating Φ at state=[0, 0, 0, 1, 0, 1]\n"
     ]
    },
    {
     "name": "stderr",
     "output_type": "stream",
     "text": [
      "Computing concepts:   0%|          | 0/63 [00:00<?, ?it/s]         "
     ]
    },
    {
     "name": "stdout",
     "output_type": "stream",
     "text": [
      "Calculating Φ at state=[1, 0, 0, 1, 0, 1]\n"
     ]
    },
    {
     "name": "stderr",
     "output_type": "stream",
     "text": [
      "Computing concepts:   0%|          | 0/63 [00:00<?, ?it/s]         "
     ]
    },
    {
     "name": "stdout",
     "output_type": "stream",
     "text": [
      "Calculating Φ at state=[0, 1, 0, 1, 0, 1]\n",
      "Calculating Φ at state=[1, 1, 0, 1, 0, 1]\n"
     ]
    },
    {
     "name": "stderr",
     "output_type": "stream",
     "text": [
      "Computing concepts:   0%|          | 0/63 [00:00<?, ?it/s]         "
     ]
    },
    {
     "name": "stdout",
     "output_type": "stream",
     "text": [
      "Calculating Φ at state=[0, 0, 1, 1, 0, 1]\n"
     ]
    },
    {
     "name": "stderr",
     "output_type": "stream",
     "text": [
      "Computing concepts:   0%|          | 0/63 [00:00<?, ?it/s]         "
     ]
    },
    {
     "name": "stdout",
     "output_type": "stream",
     "text": [
      "Calculating Φ at state=[1, 0, 1, 1, 0, 1]\n"
     ]
    },
    {
     "name": "stderr",
     "output_type": "stream",
     "text": [
      "Computing concepts:   0%|          | 0/63 [00:00<?, ?it/s]         "
     ]
    },
    {
     "name": "stdout",
     "output_type": "stream",
     "text": [
      "Calculating Φ at state=[0, 1, 1, 1, 0, 1]\n",
      "Calculating Φ at state=[1, 1, 1, 1, 0, 1]\n"
     ]
    },
    {
     "name": "stderr",
     "output_type": "stream",
     "text": [
      "                                                                   \r"
     ]
    },
    {
     "name": "stdout",
     "output_type": "stream",
     "text": [
      "Calculating Φ at state=[0, 0, 0, 0, 1, 1]\n",
      "Calculating Φ at state=[1, 0, 0, 0, 1, 1]\n",
      "Calculating Φ at state=[0, 1, 0, 0, 1, 1]\n",
      "Calculating Φ at state=[1, 1, 0, 0, 1, 1]\n",
      "Calculating Φ at state=[0, 0, 1, 0, 1, 1]\n",
      "Calculating Φ at state=[1, 0, 1, 0, 1, 1]\n",
      "Calculating Φ at state=[0, 1, 1, 0, 1, 1]\n",
      "Calculating Φ at state=[1, 1, 1, 0, 1, 1]\n"
     ]
    },
    {
     "name": "stderr",
     "output_type": "stream",
     "text": [
      "\r",
      "Computing concepts:   0%|          | 0/63 [00:00<?, ?it/s]"
     ]
    },
    {
     "name": "stdout",
     "output_type": "stream",
     "text": [
      "Calculating Φ at state=[0, 0, 0, 1, 1, 1]\n"
     ]
    },
    {
     "name": "stderr",
     "output_type": "stream",
     "text": [
      "Computing concepts:   0%|          | 0/63 [00:00<?, ?it/s]         "
     ]
    },
    {
     "name": "stdout",
     "output_type": "stream",
     "text": [
      "Calculating Φ at state=[1, 0, 0, 1, 1, 1]\n"
     ]
    },
    {
     "name": "stderr",
     "output_type": "stream",
     "text": [
      "Computing concepts:   0%|          | 0/63 [00:00<?, ?it/s]         "
     ]
    },
    {
     "name": "stdout",
     "output_type": "stream",
     "text": [
      "Calculating Φ at state=[0, 1, 0, 1, 1, 1]\n",
      "Calculating Φ at state=[1, 1, 0, 1, 1, 1]\n"
     ]
    },
    {
     "name": "stderr",
     "output_type": "stream",
     "text": [
      "Computing concepts:   0%|          | 0/63 [00:00<?, ?it/s]         "
     ]
    },
    {
     "name": "stdout",
     "output_type": "stream",
     "text": [
      "Calculating Φ at state=[0, 0, 1, 1, 1, 1]\n"
     ]
    },
    {
     "name": "stderr",
     "output_type": "stream",
     "text": [
      "Computing concepts:   0%|          | 0/63 [00:00<?, ?it/s]         "
     ]
    },
    {
     "name": "stdout",
     "output_type": "stream",
     "text": [
      "Calculating Φ at state=[1, 0, 1, 1, 1, 1]\n"
     ]
    },
    {
     "name": "stderr",
     "output_type": "stream",
     "text": [
      "Computing concepts:   0%|          | 0/63 [00:00<?, ?it/s]         "
     ]
    },
    {
     "name": "stdout",
     "output_type": "stream",
     "text": [
      "Calculating Φ at state=[0, 1, 1, 1, 1, 1]\n",
      "Calculating Φ at state=[1, 1, 1, 1, 1, 1]\n"
     ]
    },
    {
     "name": "stderr",
     "output_type": "stream",
     "text": [
      "                                                                   \r"
     ]
    }
   ],
   "source": [
    "# make histogram of phi over alls states\n",
    "# need helper function because of try:\n",
    "dd = [(k, get_phi(k)) for k in df.index]"
   ]
  },
  {
   "cell_type": "code",
   "execution_count": 190,
   "metadata": {
    "collapsed": true
   },
   "outputs": [
    {
     "data": {
      "text/plain": [
       "[('000000', 0.666665),\n",
       " ('100000', 2.673609),\n",
       " ('010000', -1),\n",
       " ('110000', 0.25),\n",
       " ('001000', 0.25),\n",
       " ('101000', 2.673609),\n",
       " ('011000', -1),\n",
       " ('111000', 0.666665),\n",
       " ('000100', 2.673609),\n",
       " ('100100', 8.082926),\n",
       " ('010100', -1),\n",
       " ('110100', 0.472222),\n",
       " ('001100', 0.472222),\n",
       " ('101100', 8.145427),\n",
       " ('011100', -1),\n",
       " ('111100', 2.673609),\n",
       " ('000010', -1),\n",
       " ('100010', -1),\n",
       " ('010010', -1),\n",
       " ('110010', -1),\n",
       " ('001010', -1),\n",
       " ('101010', -1),\n",
       " ('011010', -1),\n",
       " ('111010', -1),\n",
       " ('000110', 0.25),\n",
       " ('100110', 0.472222),\n",
       " ('010110', -1),\n",
       " ('110110', 0.25),\n",
       " ('001110', 0.25),\n",
       " ('101110', 0.472222),\n",
       " ('011110', -1),\n",
       " ('111110', 0.25),\n",
       " ('000001', 0.25),\n",
       " ('100001', 0.472222),\n",
       " ('010001', -1),\n",
       " ('110001', 0.25),\n",
       " ('001001', 0.25),\n",
       " ('101001', 0.472222),\n",
       " ('011001', -1),\n",
       " ('111001', 0.25),\n",
       " ('000101', 2.673609),\n",
       " ('100101', 8.145427),\n",
       " ('010101', -1),\n",
       " ('110101', 0.472222),\n",
       " ('001101', 0.472222),\n",
       " ('101101', 8.082926),\n",
       " ('011101', -1),\n",
       " ('111101', 2.673609),\n",
       " ('000011', -1),\n",
       " ('100011', -1),\n",
       " ('010011', -1),\n",
       " ('110011', -1),\n",
       " ('001011', -1),\n",
       " ('101011', -1),\n",
       " ('011011', -1),\n",
       " ('111011', -1),\n",
       " ('000111', 0.666665),\n",
       " ('100111', 2.673609),\n",
       " ('010111', -1),\n",
       " ('110111', 0.25),\n",
       " ('001111', 0.25),\n",
       " ('101111', 2.673609),\n",
       " ('011111', -1),\n",
       " ('111111', 0.666665)]"
      ]
     },
     "execution_count": 190,
     "metadata": {},
     "output_type": "execute_result"
    }
   ],
   "source": [
    "dd"
   ]
  },
  {
   "cell_type": "code",
   "execution_count": 199,
   "metadata": {
    "scrolled": false
   },
   "outputs": [
    {
     "data": {
      "image/png": "[encoded data removed]",
      "text/plain": [
       "<Figure size 432x288 with 1 Axes>"
      ]
     },
     "metadata": {
      "needs_background": "light"
     },
     "output_type": "display_data"
    }
   ],
   "source": [
    "dff = pd.DataFrame(dd)\n",
    "ax = dff.plot.hist(bins=100, grid=True, title='Phi histogram')"
   ]
  },
  {
   "cell_type": "markdown",
   "metadata": {},
   "source": [
    "---"
   ]
  },
  {
   "cell_type": "markdown",
   "metadata": {},
   "source": [
    "## EXPERIMENT 002: Two identical 3-node systems, uncoupled"
   ]
  },
  {
   "cell_type": "code",
   "execution_count": 207,
   "metadata": {},
   "outputs": [],
   "source": [
    "edges =  [('A', 'B'), ('A', 'C'), \n",
    "          ('B', 'A'), ('B', 'C'), \n",
    "          ('C', 'A'), ('C', 'B'),\n",
    "          ('D', 'E'), ('D', 'F'), \n",
    "          ('E', 'D'), ('E', 'F'), \n",
    "          ('F', 'D'), ('F', 'E'),\n",
    "         ]\n",
    "nodes = ['A', 'B', 'C', 'D', 'E', 'F']\n",
    "funcs = [tb.or_func, tb.and_func, tb.xor_func, tb.or_func, tb.and_func, tb.xor_func]"
   ]
  },
  {
   "cell_type": "code",
   "execution_count": 208,
   "metadata": {},
   "outputs": [
    {
     "name": "stdout",
     "output_type": "stream",
     "text": [
      "edges=[(0, 1), (0, 2), (1, 0), (1, 2), (2, 0), (2, 1), (3, 4), (3, 5), (4, 3), (4, 5), (5, 3), (5, 4)] n_list=[0, 1, 2, 3, 4, 5]\n"
     ]
    },
    {
     "data": {
      "text/plain": [
       "<toolbox.Net at 0x7f957852b550>"
      ]
     },
     "execution_count": 208,
     "metadata": {},
     "output_type": "execute_result"
    },
    {
     "data": {
      "image/png": "[encoded data removed]",
      "text/plain": [
       "<Figure size 432x288 with 1 Axes>"
      ]
     },
     "metadata": {},
     "output_type": "display_data"
    }
   ],
   "source": [
    "net = get_net(edges, nodes, funcs)\n",
    "net.draw()"
   ]
  },
  {
   "cell_type": "code",
   "execution_count": 209,
   "metadata": {
    "collapsed": true
   },
   "outputs": [
    {
     "data": {
      "text/html": [
       "<div>\n",
       "<style scoped>\n",
       "    .dataframe tbody tr th:only-of-type {\n",
       "        vertical-align: middle;\n",
       "    }\n",
       "\n",
       "    .dataframe tbody tr th {\n",
       "        vertical-align: top;\n",
       "    }\n",
       "\n",
       "    .dataframe thead th {\n",
       "        text-align: right;\n",
       "    }\n",
       "</style>\n",
       "<table border=\"1\" class=\"dataframe\">\n",
       "  <thead>\n",
       "    <tr style=\"text-align: right;\">\n",
       "      <th></th>\n",
       "      <th>A</th>\n",
       "      <th>B</th>\n",
       "      <th>C</th>\n",
       "      <th>D</th>\n",
       "      <th>E</th>\n",
       "      <th>F</th>\n",
       "    </tr>\n",
       "  </thead>\n",
       "  <tbody>\n",
       "    <tr>\n",
       "      <th>000000</th>\n",
       "      <td>0</td>\n",
       "      <td>0</td>\n",
       "      <td>0</td>\n",
       "      <td>0</td>\n",
       "      <td>0</td>\n",
       "      <td>0</td>\n",
       "    </tr>\n",
       "    <tr>\n",
       "      <th>100000</th>\n",
       "      <td>0</td>\n",
       "      <td>0</td>\n",
       "      <td>1</td>\n",
       "      <td>0</td>\n",
       "      <td>0</td>\n",
       "      <td>0</td>\n",
       "    </tr>\n",
       "    <tr>\n",
       "      <th>010000</th>\n",
       "      <td>1</td>\n",
       "      <td>0</td>\n",
       "      <td>1</td>\n",
       "      <td>0</td>\n",
       "      <td>0</td>\n",
       "      <td>0</td>\n",
       "    </tr>\n",
       "    <tr>\n",
       "      <th>110000</th>\n",
       "      <td>1</td>\n",
       "      <td>0</td>\n",
       "      <td>0</td>\n",
       "      <td>0</td>\n",
       "      <td>0</td>\n",
       "      <td>0</td>\n",
       "    </tr>\n",
       "    <tr>\n",
       "      <th>001000</th>\n",
       "      <td>1</td>\n",
       "      <td>0</td>\n",
       "      <td>0</td>\n",
       "      <td>0</td>\n",
       "      <td>0</td>\n",
       "      <td>0</td>\n",
       "    </tr>\n",
       "    <tr>\n",
       "      <th>...</th>\n",
       "      <td>...</td>\n",
       "      <td>...</td>\n",
       "      <td>...</td>\n",
       "      <td>...</td>\n",
       "      <td>...</td>\n",
       "      <td>...</td>\n",
       "    </tr>\n",
       "    <tr>\n",
       "      <th>110111</th>\n",
       "      <td>1</td>\n",
       "      <td>0</td>\n",
       "      <td>0</td>\n",
       "      <td>1</td>\n",
       "      <td>1</td>\n",
       "      <td>0</td>\n",
       "    </tr>\n",
       "    <tr>\n",
       "      <th>001111</th>\n",
       "      <td>1</td>\n",
       "      <td>0</td>\n",
       "      <td>0</td>\n",
       "      <td>1</td>\n",
       "      <td>1</td>\n",
       "      <td>0</td>\n",
       "    </tr>\n",
       "    <tr>\n",
       "      <th>101111</th>\n",
       "      <td>1</td>\n",
       "      <td>1</td>\n",
       "      <td>1</td>\n",
       "      <td>1</td>\n",
       "      <td>1</td>\n",
       "      <td>0</td>\n",
       "    </tr>\n",
       "    <tr>\n",
       "      <th>011111</th>\n",
       "      <td>1</td>\n",
       "      <td>0</td>\n",
       "      <td>1</td>\n",
       "      <td>1</td>\n",
       "      <td>1</td>\n",
       "      <td>0</td>\n",
       "    </tr>\n",
       "    <tr>\n",
       "      <th>111111</th>\n",
       "      <td>1</td>\n",
       "      <td>1</td>\n",
       "      <td>0</td>\n",
       "      <td>1</td>\n",
       "      <td>1</td>\n",
       "      <td>0</td>\n",
       "    </tr>\n",
       "  </tbody>\n",
       "</table>\n",
       "<p>64 rows × 6 columns</p>\n",
       "</div>"
      ],
      "text/plain": [
       "        A  B  C  D  E  F\n",
       "000000  0  0  0  0  0  0\n",
       "100000  0  0  1  0  0  0\n",
       "010000  1  0  1  0  0  0\n",
       "110000  1  0  0  0  0  0\n",
       "001000  1  0  0  0  0  0\n",
       "...    .. .. .. .. .. ..\n",
       "110111  1  0  0  1  1  0\n",
       "001111  1  0  0  1  1  0\n",
       "101111  1  1  1  1  1  0\n",
       "011111  1  0  1  1  1  0\n",
       "111111  1  1  0  1  1  0\n",
       "\n",
       "[64 rows x 6 columns]"
      ]
     },
     "execution_count": 209,
     "metadata": {},
     "output_type": "execute_result"
    }
   ],
   "source": [
    "df=net.tpm\n",
    "df"
   ]
  },
  {
   "cell_type": "code",
   "execution_count": 205,
   "metadata": {
    "collapsed": true
   },
   "outputs": [
    {
     "name": "stdout",
     "output_type": "stream",
     "text": [
      "Calculating Φ at state=[0, 0, 0, 0, 0, 0]\n",
      "Calculating Φ at state=[1, 0, 0, 0, 0, 0]\n",
      "Calculating Φ at state=[0, 1, 0, 0, 0, 0]\n",
      "Calculating Φ at state=[1, 1, 0, 0, 0, 0]\n",
      "Calculating Φ at state=[0, 0, 1, 0, 0, 0]\n",
      "Calculating Φ at state=[1, 0, 1, 0, 0, 0]\n",
      "Calculating Φ at state=[0, 1, 1, 0, 0, 0]\n",
      "Calculating Φ at state=[1, 1, 1, 0, 0, 0]\n",
      "Calculating Φ at state=[0, 0, 0, 1, 0, 0]\n",
      "Calculating Φ at state=[1, 0, 0, 1, 0, 0]\n",
      "Calculating Φ at state=[0, 1, 0, 1, 0, 0]\n",
      "Calculating Φ at state=[1, 1, 0, 1, 0, 0]\n",
      "Calculating Φ at state=[0, 0, 1, 1, 0, 0]\n",
      "Calculating Φ at state=[1, 0, 1, 1, 0, 0]\n",
      "Calculating Φ at state=[0, 1, 1, 1, 0, 0]\n",
      "Calculating Φ at state=[1, 1, 1, 1, 0, 0]\n",
      "Calculating Φ at state=[0, 0, 0, 0, 1, 0]\n",
      "Calculating Φ at state=[1, 0, 0, 0, 1, 0]\n",
      "Calculating Φ at state=[0, 1, 0, 0, 1, 0]\n",
      "Calculating Φ at state=[1, 1, 0, 0, 1, 0]\n",
      "Calculating Φ at state=[0, 0, 1, 0, 1, 0]\n",
      "Calculating Φ at state=[1, 0, 1, 0, 1, 0]\n",
      "Calculating Φ at state=[0, 1, 1, 0, 1, 0]\n",
      "Calculating Φ at state=[1, 1, 1, 0, 1, 0]\n",
      "Calculating Φ at state=[0, 0, 0, 1, 1, 0]\n",
      "Calculating Φ at state=[1, 0, 0, 1, 1, 0]\n",
      "Calculating Φ at state=[0, 1, 0, 1, 1, 0]\n",
      "Calculating Φ at state=[1, 1, 0, 1, 1, 0]\n",
      "Calculating Φ at state=[0, 0, 1, 1, 1, 0]\n",
      "Calculating Φ at state=[1, 0, 1, 1, 1, 0]\n",
      "Calculating Φ at state=[0, 1, 1, 1, 1, 0]\n",
      "Calculating Φ at state=[1, 1, 1, 1, 1, 0]\n",
      "Calculating Φ at state=[0, 0, 0, 0, 0, 1]\n",
      "Calculating Φ at state=[1, 0, 0, 0, 0, 1]\n",
      "Calculating Φ at state=[0, 1, 0, 0, 0, 1]\n",
      "Calculating Φ at state=[1, 1, 0, 0, 0, 1]\n",
      "Calculating Φ at state=[0, 0, 1, 0, 0, 1]\n",
      "Calculating Φ at state=[1, 0, 1, 0, 0, 1]\n",
      "Calculating Φ at state=[0, 1, 1, 0, 0, 1]\n",
      "Calculating Φ at state=[1, 1, 1, 0, 0, 1]\n",
      "Calculating Φ at state=[0, 0, 0, 1, 0, 1]\n",
      "Calculating Φ at state=[1, 0, 0, 1, 0, 1]\n",
      "Calculating Φ at state=[0, 1, 0, 1, 0, 1]\n",
      "Calculating Φ at state=[1, 1, 0, 1, 0, 1]\n",
      "Calculating Φ at state=[0, 0, 1, 1, 0, 1]\n",
      "Calculating Φ at state=[1, 0, 1, 1, 0, 1]\n",
      "Calculating Φ at state=[0, 1, 1, 1, 0, 1]\n",
      "Calculating Φ at state=[1, 1, 1, 1, 0, 1]\n",
      "Calculating Φ at state=[0, 0, 0, 0, 1, 1]\n",
      "Calculating Φ at state=[1, 0, 0, 0, 1, 1]\n",
      "Calculating Φ at state=[0, 1, 0, 0, 1, 1]\n",
      "Calculating Φ at state=[1, 1, 0, 0, 1, 1]\n",
      "Calculating Φ at state=[0, 0, 1, 0, 1, 1]\n",
      "Calculating Φ at state=[1, 0, 1, 0, 1, 1]\n",
      "Calculating Φ at state=[0, 1, 1, 0, 1, 1]\n",
      "Calculating Φ at state=[1, 1, 1, 0, 1, 1]\n",
      "Calculating Φ at state=[0, 0, 0, 1, 1, 1]\n",
      "Calculating Φ at state=[1, 0, 0, 1, 1, 1]\n",
      "Calculating Φ at state=[0, 1, 0, 1, 1, 1]\n",
      "Calculating Φ at state=[1, 1, 0, 1, 1, 1]\n",
      "Calculating Φ at state=[0, 0, 1, 1, 1, 1]\n",
      "Calculating Φ at state=[1, 0, 1, 1, 1, 1]\n",
      "Calculating Φ at state=[0, 1, 1, 1, 1, 1]\n",
      "Calculating Φ at state=[1, 1, 1, 1, 1, 1]\n"
     ]
    }
   ],
   "source": [
    "dd = [(k, get_phi(k)) for k in df.index]"
   ]
  },
  {
   "cell_type": "code",
   "execution_count": 206,
   "metadata": {
    "collapsed": true
   },
   "outputs": [
    {
     "data": {
      "text/plain": [
       "[('000000', 0.0),\n",
       " ('100000', 0.0),\n",
       " ('010000', -1),\n",
       " ('110000', 0.0),\n",
       " ('001000', 0.0),\n",
       " ('101000', 0.0),\n",
       " ('011000', -1),\n",
       " ('111000', 0.0),\n",
       " ('000100', 0.0),\n",
       " ('100100', 0.0),\n",
       " ('010100', -1),\n",
       " ('110100', 0.0),\n",
       " ('001100', 0.0),\n",
       " ('101100', 0.0),\n",
       " ('011100', -1),\n",
       " ('111100', 0.0),\n",
       " ('000010', -1),\n",
       " ('100010', -1),\n",
       " ('010010', -1),\n",
       " ('110010', -1),\n",
       " ('001010', -1),\n",
       " ('101010', -1),\n",
       " ('011010', -1),\n",
       " ('111010', -1),\n",
       " ('000110', 0.0),\n",
       " ('100110', 0.0),\n",
       " ('010110', -1),\n",
       " ('110110', 0.0),\n",
       " ('001110', 0.0),\n",
       " ('101110', 0.0),\n",
       " ('011110', -1),\n",
       " ('111110', 0.0),\n",
       " ('000001', 0.0),\n",
       " ('100001', 0.0),\n",
       " ('010001', -1),\n",
       " ('110001', 0.0),\n",
       " ('001001', 0.0),\n",
       " ('101001', 0.0),\n",
       " ('011001', -1),\n",
       " ('111001', 0.0),\n",
       " ('000101', 0.0),\n",
       " ('100101', 0.0),\n",
       " ('010101', -1),\n",
       " ('110101', 0.0),\n",
       " ('001101', 0.0),\n",
       " ('101101', 0.0),\n",
       " ('011101', -1),\n",
       " ('111101', 0.0),\n",
       " ('000011', -1),\n",
       " ('100011', -1),\n",
       " ('010011', -1),\n",
       " ('110011', -1),\n",
       " ('001011', -1),\n",
       " ('101011', -1),\n",
       " ('011011', -1),\n",
       " ('111011', -1),\n",
       " ('000111', 0.0),\n",
       " ('100111', 0.0),\n",
       " ('010111', -1),\n",
       " ('110111', 0.0),\n",
       " ('001111', 0.0),\n",
       " ('101111', 0.0),\n",
       " ('011111', -1),\n",
       " ('111111', 0.0)]"
      ]
     },
     "execution_count": 206,
     "metadata": {},
     "output_type": "execute_result"
    }
   ],
   "source": [
    "dd"
   ]
  },
  {
   "cell_type": "code",
   "execution_count": 210,
   "metadata": {},
   "outputs": [
    {
     "data": {
      "image/png": "[encoded data removed]",
      "text/plain": [
       "<Figure size 432x288 with 1 Axes>"
      ]
     },
     "metadata": {
      "needs_background": "light"
     },
     "output_type": "display_data"
    }
   ],
   "source": [
    "dff = pd.DataFrame(dd)\n",
    "ax = dff.plot.hist(bins=100, grid=True, title='Phi histogram')"
   ]
  },
  {
   "cell_type": "markdown",
   "metadata": {},
   "source": [
    "---"
   ]
  },
  {
   "cell_type": "markdown",
   "metadata": {},
   "source": [
    "## EXPERIMENT 003: Four XOR gates, fully bidirectionally coupled"
   ]
  },
  {
   "cell_type": "code",
   "execution_count": 211,
   "metadata": {},
   "outputs": [],
   "source": [
    "edges =  [('A', 'B'), ('A', 'C'), ('A', 'D'),\n",
    "          ('B', 'A'), ('B', 'C'), ('B', 'D'),\n",
    "          ('C', 'A'), ('C', 'B'), ('C', 'D'),\n",
    "          ('D', 'A'), ('D', 'B'), ('D', 'C'),\n",
    "         ]\n",
    "nodes = ['A', 'B', 'C', 'D']\n",
    "funcs = [tb.xor_func, tb.xor_func, tb.xor_func, tb.xor_func]"
   ]
  },
  {
   "cell_type": "code",
   "execution_count": 212,
   "metadata": {},
   "outputs": [
    {
     "name": "stdout",
     "output_type": "stream",
     "text": [
      "edges=[(0, 1), (0, 2), (0, 3), (1, 0), (1, 2), (1, 3), (2, 0), (2, 1), (2, 3), (3, 0), (3, 1), (3, 2)] n_list=[0, 1, 2, 3]\n"
     ]
    },
    {
     "data": {
      "text/plain": [
       "<toolbox.Net at 0x7f9573338d30>"
      ]
     },
     "execution_count": 212,
     "metadata": {},
     "output_type": "execute_result"
    },
    {
     "data": {
      "image/png": "[encoded data removed]",
      "text/plain": [
       "<Figure size 432x288 with 1 Axes>"
      ]
     },
     "metadata": {},
     "output_type": "display_data"
    }
   ],
   "source": [
    "net = get_net(edges, nodes, funcs)\n",
    "net.draw()"
   ]
  },
  {
   "cell_type": "code",
   "execution_count": 218,
   "metadata": {
    "collapsed": true
   },
   "outputs": [
    {
     "data": {
      "text/html": [
       "<div>\n",
       "<style scoped>\n",
       "    .dataframe tbody tr th:only-of-type {\n",
       "        vertical-align: middle;\n",
       "    }\n",
       "\n",
       "    .dataframe tbody tr th {\n",
       "        vertical-align: top;\n",
       "    }\n",
       "\n",
       "    .dataframe thead th {\n",
       "        text-align: right;\n",
       "    }\n",
       "</style>\n",
       "<table border=\"1\" class=\"dataframe\">\n",
       "  <thead>\n",
       "    <tr style=\"text-align: right;\">\n",
       "      <th></th>\n",
       "      <th>A</th>\n",
       "      <th>B</th>\n",
       "      <th>C</th>\n",
       "      <th>D</th>\n",
       "    </tr>\n",
       "  </thead>\n",
       "  <tbody>\n",
       "    <tr>\n",
       "      <th>0000</th>\n",
       "      <td>0</td>\n",
       "      <td>0</td>\n",
       "      <td>0</td>\n",
       "      <td>0</td>\n",
       "    </tr>\n",
       "    <tr>\n",
       "      <th>1000</th>\n",
       "      <td>0</td>\n",
       "      <td>1</td>\n",
       "      <td>1</td>\n",
       "      <td>1</td>\n",
       "    </tr>\n",
       "    <tr>\n",
       "      <th>0100</th>\n",
       "      <td>1</td>\n",
       "      <td>0</td>\n",
       "      <td>1</td>\n",
       "      <td>1</td>\n",
       "    </tr>\n",
       "    <tr>\n",
       "      <th>1100</th>\n",
       "      <td>1</td>\n",
       "      <td>1</td>\n",
       "      <td>0</td>\n",
       "      <td>0</td>\n",
       "    </tr>\n",
       "    <tr>\n",
       "      <th>0010</th>\n",
       "      <td>1</td>\n",
       "      <td>1</td>\n",
       "      <td>0</td>\n",
       "      <td>1</td>\n",
       "    </tr>\n",
       "    <tr>\n",
       "      <th>1010</th>\n",
       "      <td>1</td>\n",
       "      <td>0</td>\n",
       "      <td>1</td>\n",
       "      <td>0</td>\n",
       "    </tr>\n",
       "    <tr>\n",
       "      <th>0110</th>\n",
       "      <td>0</td>\n",
       "      <td>1</td>\n",
       "      <td>1</td>\n",
       "      <td>0</td>\n",
       "    </tr>\n",
       "    <tr>\n",
       "      <th>1110</th>\n",
       "      <td>0</td>\n",
       "      <td>0</td>\n",
       "      <td>0</td>\n",
       "      <td>1</td>\n",
       "    </tr>\n",
       "    <tr>\n",
       "      <th>0001</th>\n",
       "      <td>1</td>\n",
       "      <td>1</td>\n",
       "      <td>1</td>\n",
       "      <td>0</td>\n",
       "    </tr>\n",
       "    <tr>\n",
       "      <th>1001</th>\n",
       "      <td>1</td>\n",
       "      <td>0</td>\n",
       "      <td>0</td>\n",
       "      <td>1</td>\n",
       "    </tr>\n",
       "    <tr>\n",
       "      <th>0101</th>\n",
       "      <td>0</td>\n",
       "      <td>1</td>\n",
       "      <td>0</td>\n",
       "      <td>1</td>\n",
       "    </tr>\n",
       "    <tr>\n",
       "      <th>1101</th>\n",
       "      <td>0</td>\n",
       "      <td>0</td>\n",
       "      <td>1</td>\n",
       "      <td>0</td>\n",
       "    </tr>\n",
       "    <tr>\n",
       "      <th>0011</th>\n",
       "      <td>0</td>\n",
       "      <td>0</td>\n",
       "      <td>1</td>\n",
       "      <td>1</td>\n",
       "    </tr>\n",
       "    <tr>\n",
       "      <th>1011</th>\n",
       "      <td>0</td>\n",
       "      <td>1</td>\n",
       "      <td>0</td>\n",
       "      <td>0</td>\n",
       "    </tr>\n",
       "    <tr>\n",
       "      <th>0111</th>\n",
       "      <td>1</td>\n",
       "      <td>0</td>\n",
       "      <td>0</td>\n",
       "      <td>0</td>\n",
       "    </tr>\n",
       "    <tr>\n",
       "      <th>1111</th>\n",
       "      <td>1</td>\n",
       "      <td>1</td>\n",
       "      <td>1</td>\n",
       "      <td>1</td>\n",
       "    </tr>\n",
       "  </tbody>\n",
       "</table>\n",
       "</div>"
      ],
      "text/plain": [
       "      A  B  C  D\n",
       "0000  0  0  0  0\n",
       "1000  0  1  1  1\n",
       "0100  1  0  1  1\n",
       "1100  1  1  0  0\n",
       "0010  1  1  0  1\n",
       "1010  1  0  1  0\n",
       "0110  0  1  1  0\n",
       "1110  0  0  0  1\n",
       "0001  1  1  1  0\n",
       "1001  1  0  0  1\n",
       "0101  0  1  0  1\n",
       "1101  0  0  1  0\n",
       "0011  0  0  1  1\n",
       "1011  0  1  0  0\n",
       "0111  1  0  0  0\n",
       "1111  1  1  1  1"
      ]
     },
     "execution_count": 218,
     "metadata": {},
     "output_type": "execute_result"
    }
   ],
   "source": [
    "df=net.tpm\n",
    "df"
   ]
  },
  {
   "cell_type": "code",
   "execution_count": 215,
   "metadata": {
    "collapsed": true
   },
   "outputs": [
    {
     "name": "stderr",
     "output_type": "stream",
     "text": [
      "\r",
      "Computing concepts:   0%|          | 0/15 [00:00<?, ?it/s]"
     ]
    },
    {
     "name": "stdout",
     "output_type": "stream",
     "text": [
      "Calculating Φ at state=[0, 0, 0, 0]\n"
     ]
    },
    {
     "name": "stderr",
     "output_type": "stream",
     "text": [
      "Computing concepts:   0%|          | 0/15 [00:00<?, ?it/s]         "
     ]
    },
    {
     "name": "stdout",
     "output_type": "stream",
     "text": [
      "Calculating Φ at state=[1, 0, 0, 0]\n"
     ]
    },
    {
     "name": "stderr",
     "output_type": "stream",
     "text": [
      "Computing concepts:   0%|          | 0/15 [00:00<?, ?it/s]         "
     ]
    },
    {
     "name": "stdout",
     "output_type": "stream",
     "text": [
      "Calculating Φ at state=[0, 1, 0, 0]\n"
     ]
    },
    {
     "name": "stderr",
     "output_type": "stream",
     "text": [
      "Computing concepts:   0%|          | 0/15 [00:00<?, ?it/s]         "
     ]
    },
    {
     "name": "stdout",
     "output_type": "stream",
     "text": [
      "Calculating Φ at state=[1, 1, 0, 0]\n"
     ]
    },
    {
     "name": "stderr",
     "output_type": "stream",
     "text": [
      "Computing concepts:   0%|          | 0/15 [00:00<?, ?it/s]         "
     ]
    },
    {
     "name": "stdout",
     "output_type": "stream",
     "text": [
      "Calculating Φ at state=[0, 0, 1, 0]\n"
     ]
    },
    {
     "name": "stderr",
     "output_type": "stream",
     "text": [
      "Computing concepts:   0%|          | 0/15 [00:00<?, ?it/s]         "
     ]
    },
    {
     "name": "stdout",
     "output_type": "stream",
     "text": [
      "Calculating Φ at state=[1, 0, 1, 0]\n"
     ]
    },
    {
     "name": "stderr",
     "output_type": "stream",
     "text": [
      "Computing concepts:   0%|          | 0/15 [00:00<?, ?it/s]         "
     ]
    },
    {
     "name": "stdout",
     "output_type": "stream",
     "text": [
      "Calculating Φ at state=[0, 1, 1, 0]\n"
     ]
    },
    {
     "name": "stderr",
     "output_type": "stream",
     "text": [
      "Computing concepts:   0%|          | 0/15 [00:00<?, ?it/s]         "
     ]
    },
    {
     "name": "stdout",
     "output_type": "stream",
     "text": [
      "Calculating Φ at state=[1, 1, 1, 0]\n"
     ]
    },
    {
     "name": "stderr",
     "output_type": "stream",
     "text": [
      "Computing concepts:   0%|          | 0/15 [00:00<?, ?it/s]         "
     ]
    },
    {
     "name": "stdout",
     "output_type": "stream",
     "text": [
      "Calculating Φ at state=[0, 0, 0, 1]\n"
     ]
    },
    {
     "name": "stderr",
     "output_type": "stream",
     "text": [
      "Computing concepts:   0%|          | 0/15 [00:00<?, ?it/s]         "
     ]
    },
    {
     "name": "stdout",
     "output_type": "stream",
     "text": [
      "Calculating Φ at state=[1, 0, 0, 1]\n"
     ]
    },
    {
     "name": "stderr",
     "output_type": "stream",
     "text": [
      "Computing concepts:   0%|          | 0/15 [00:00<?, ?it/s]         "
     ]
    },
    {
     "name": "stdout",
     "output_type": "stream",
     "text": [
      "Calculating Φ at state=[0, 1, 0, 1]\n"
     ]
    },
    {
     "name": "stderr",
     "output_type": "stream",
     "text": [
      "Computing concepts:   0%|          | 0/15 [00:00<?, ?it/s]         "
     ]
    },
    {
     "name": "stdout",
     "output_type": "stream",
     "text": [
      "Calculating Φ at state=[1, 1, 0, 1]\n"
     ]
    },
    {
     "name": "stderr",
     "output_type": "stream",
     "text": [
      "Computing concepts:   0%|          | 0/15 [00:00<?, ?it/s]         "
     ]
    },
    {
     "name": "stdout",
     "output_type": "stream",
     "text": [
      "Calculating Φ at state=[0, 0, 1, 1]\n"
     ]
    },
    {
     "name": "stderr",
     "output_type": "stream",
     "text": [
      "Computing concepts:   0%|          | 0/15 [00:00<?, ?it/s]         "
     ]
    },
    {
     "name": "stdout",
     "output_type": "stream",
     "text": [
      "Calculating Φ at state=[1, 0, 1, 1]\n"
     ]
    },
    {
     "name": "stderr",
     "output_type": "stream",
     "text": [
      "Computing concepts:   0%|          | 0/15 [00:00<?, ?it/s]         "
     ]
    },
    {
     "name": "stdout",
     "output_type": "stream",
     "text": [
      "Calculating Φ at state=[0, 1, 1, 1]\n"
     ]
    },
    {
     "name": "stderr",
     "output_type": "stream",
     "text": [
      "Computing concepts:   0%|          | 0/15 [00:00<?, ?it/s]         "
     ]
    },
    {
     "name": "stdout",
     "output_type": "stream",
     "text": [
      "Calculating Φ at state=[1, 1, 1, 1]\n"
     ]
    },
    {
     "name": "stderr",
     "output_type": "stream",
     "text": [
      "                                                                   \r"
     ]
    }
   ],
   "source": [
    "dd = [(k, get_phi(k)) for k in df.index]"
   ]
  },
  {
   "cell_type": "code",
   "execution_count": 216,
   "metadata": {
    "collapsed": true
   },
   "outputs": [
    {
     "data": {
      "text/plain": [
       "[('0000', 5.5),\n",
       " ('1000', 5.5),\n",
       " ('0100', 5.5),\n",
       " ('1100', 5.5),\n",
       " ('0010', 5.5),\n",
       " ('1010', 5.5),\n",
       " ('0110', 5.5),\n",
       " ('1110', 5.5),\n",
       " ('0001', 5.5),\n",
       " ('1001', 5.5),\n",
       " ('0101', 5.5),\n",
       " ('1101', 5.5),\n",
       " ('0011', 5.5),\n",
       " ('1011', 5.5),\n",
       " ('0111', 5.5),\n",
       " ('1111', 5.5)]"
      ]
     },
     "execution_count": 216,
     "metadata": {},
     "output_type": "execute_result"
    }
   ],
   "source": [
    "dd"
   ]
  },
  {
   "cell_type": "code",
   "execution_count": 217,
   "metadata": {},
   "outputs": [
    {
     "data": {
      "image/png": "[encoded data removed]",
      "text/plain": [
       "<Figure size 432x288 with 1 Axes>"
      ]
     },
     "metadata": {
      "needs_background": "light"
     },
     "output_type": "display_data"
    }
   ],
   "source": [
    "dff = pd.DataFrame(dd)\n",
    "ax = dff.plot.hist(bins=100, grid=True, title='Phi histogram')"
   ]
  },
  {
   "cell_type": "markdown",
   "metadata": {},
   "source": [
    "---"
   ]
  },
  {
   "cell_type": "markdown",
   "metadata": {},
   "source": [
    "## EXPERIMENT 004: Four XOR gates, removing one bidirectional link"
   ]
  },
  {
   "cell_type": "code",
   "execution_count": 221,
   "metadata": {},
   "outputs": [],
   "source": [
    "edges =  [('A', 'C'), ('A', 'D'),\n",
    "          ('B', 'C'), ('B', 'D'),\n",
    "          ('C', 'A'), ('C', 'B'), ('C', 'D'),\n",
    "          ('D', 'A'), ('D', 'B'), ('D', 'C'),\n",
    "         ]\n",
    "nodes = ['A', 'B', 'C', 'D']\n",
    "funcs = [tb.xor_func, tb.xor_func, tb.xor_func, tb.xor_func]"
   ]
  },
  {
   "cell_type": "code",
   "execution_count": 222,
   "metadata": {},
   "outputs": [
    {
     "name": "stdout",
     "output_type": "stream",
     "text": [
      "edges=[(0, 2), (0, 3), (1, 2), (1, 3), (2, 0), (2, 1), (2, 3), (3, 0), (3, 1), (3, 2)] n_list=[0, 1, 2, 3]\n"
     ]
    },
    {
     "data": {
      "text/plain": [
       "<toolbox.Net at 0x7f9572896f98>"
      ]
     },
     "execution_count": 222,
     "metadata": {},
     "output_type": "execute_result"
    },
    {
     "data": {
      "image/png": "[encoded data removed]",
      "text/plain": [
       "<Figure size 432x288 with 1 Axes>"
      ]
     },
     "metadata": {},
     "output_type": "display_data"
    }
   ],
   "source": [
    "net = get_net(edges, nodes, funcs)\n",
    "net.draw()"
   ]
  },
  {
   "cell_type": "code",
   "execution_count": 225,
   "metadata": {},
   "outputs": [],
   "source": [
    "df=net.tpm"
   ]
  },
  {
   "cell_type": "code",
   "execution_count": 226,
   "metadata": {
    "collapsed": true
   },
   "outputs": [
    {
     "name": "stderr",
     "output_type": "stream",
     "text": [
      "\r",
      "Computing concepts:   0%|          | 0/15 [00:00<?, ?it/s]"
     ]
    },
    {
     "name": "stdout",
     "output_type": "stream",
     "text": [
      "Calculating Φ at state=[0, 0, 0, 0]\n"
     ]
    },
    {
     "name": "stderr",
     "output_type": "stream",
     "text": [
      "Computing concepts:   0%|          | 0/15 [00:00<?, ?it/s]         "
     ]
    },
    {
     "name": "stdout",
     "output_type": "stream",
     "text": [
      "Calculating Φ at state=[1, 0, 0, 0]\n",
      "Calculating Φ at state=[0, 1, 0, 0]\n",
      "Calculating Φ at state=[1, 1, 0, 0]\n",
      "Calculating Φ at state=[0, 0, 1, 0]\n",
      "Calculating Φ at state=[1, 0, 1, 0]\n",
      "Calculating Φ at state=[0, 1, 1, 0]\n",
      "Calculating Φ at state=[1, 1, 1, 0]\n"
     ]
    },
    {
     "name": "stderr",
     "output_type": "stream",
     "text": [
      "Computing concepts:   0%|          | 0/15 [00:00<?, ?it/s]         "
     ]
    },
    {
     "name": "stdout",
     "output_type": "stream",
     "text": [
      "Calculating Φ at state=[0, 0, 0, 1]\n",
      "Calculating Φ at state=[1, 0, 0, 1]\n",
      "Calculating Φ at state=[0, 1, 0, 1]\n",
      "Calculating Φ at state=[1, 1, 0, 1]\n"
     ]
    },
    {
     "name": "stderr",
     "output_type": "stream",
     "text": [
      "Computing concepts:   0%|          | 0/15 [00:00<?, ?it/s]         "
     ]
    },
    {
     "name": "stdout",
     "output_type": "stream",
     "text": [
      "Calculating Φ at state=[0, 0, 1, 1]\n"
     ]
    },
    {
     "name": "stderr",
     "output_type": "stream",
     "text": [
      "                                                                   "
     ]
    },
    {
     "name": "stdout",
     "output_type": "stream",
     "text": [
      "Calculating Φ at state=[1, 0, 1, 1]\n",
      "Calculating Φ at state=[0, 1, 1, 1]\n",
      "Calculating Φ at state=[1, 1, 1, 1]\n"
     ]
    },
    {
     "name": "stderr",
     "output_type": "stream",
     "text": [
      "\r"
     ]
    }
   ],
   "source": [
    "dd = [(k, get_phi(k)) for k in df.index]"
   ]
  },
  {
   "cell_type": "code",
   "execution_count": 228,
   "metadata": {
    "collapsed": true
   },
   "outputs": [
    {
     "data": {
      "text/plain": [
       "[('0000', 0.25),\n",
       " ('1000', -1),\n",
       " ('0100', -1),\n",
       " ('1100', -1),\n",
       " ('0010', -1),\n",
       " ('1010', -1),\n",
       " ('0110', -1),\n",
       " ('1110', 0.25),\n",
       " ('0001', -1),\n",
       " ('1001', -1),\n",
       " ('0101', -1),\n",
       " ('1101', 0.25),\n",
       " ('0011', 0.25),\n",
       " ('1011', -1),\n",
       " ('0111', -1),\n",
       " ('1111', -1)]"
      ]
     },
     "execution_count": 228,
     "metadata": {},
     "output_type": "execute_result"
    }
   ],
   "source": [
    "dd"
   ]
  },
  {
   "cell_type": "code",
   "execution_count": 227,
   "metadata": {},
   "outputs": [
    {
     "data": {
      "image/png": "[encoded data removed]",
      "text/plain": [
       "<Figure size 432x288 with 1 Axes>"
      ]
     },
     "metadata": {
      "needs_background": "light"
     },
     "output_type": "display_data"
    }
   ],
   "source": [
    "dff = pd.DataFrame(dd)\n",
    "ax = dff.plot.hist(bins=100, grid=True, title='Phi histogram')"
   ]
  },
  {
   "cell_type": "markdown",
   "metadata": {},
   "source": [
    "---"
   ]
  },
  {
   "cell_type": "markdown",
   "metadata": {},
   "source": [
    "## EXPERIMENT 005: Four XOR gates, removing two bidirectional links"
   ]
  },
  {
   "cell_type": "code",
   "execution_count": 229,
   "metadata": {},
   "outputs": [],
   "source": [
    "edges =  [('A', 'C'), ('A', 'D'),\n",
    "          ('B', 'C'), ('B', 'D'),\n",
    "          ('C', 'A'), ('C', 'B'),\n",
    "          ('D', 'A'), ('D', 'B'),\n",
    "         ]\n",
    "nodes = ['A', 'B', 'C', 'D']\n",
    "funcs = [tb.xor_func, tb.xor_func, tb.xor_func, tb.xor_func]"
   ]
  },
  {
   "cell_type": "code",
   "execution_count": 230,
   "metadata": {},
   "outputs": [
    {
     "name": "stdout",
     "output_type": "stream",
     "text": [
      "edges=[(0, 2), (0, 3), (1, 2), (1, 3), (2, 0), (2, 1), (3, 0), (3, 1)] n_list=[0, 1, 2, 3]\n"
     ]
    },
    {
     "data": {
      "text/plain": [
       "<toolbox.Net at 0x7f95785d11d0>"
      ]
     },
     "execution_count": 230,
     "metadata": {},
     "output_type": "execute_result"
    },
    {
     "data": {
      "image/png": "[encoded data removed]",
      "text/plain": [
       "<Figure size 432x288 with 1 Axes>"
      ]
     },
     "metadata": {},
     "output_type": "display_data"
    }
   ],
   "source": [
    "net = get_net(edges, nodes, funcs)\n",
    "net.draw()"
   ]
  },
  {
   "cell_type": "code",
   "execution_count": 231,
   "metadata": {},
   "outputs": [],
   "source": [
    "df=net.tpm"
   ]
  },
  {
   "cell_type": "code",
   "execution_count": 232,
   "metadata": {
    "collapsed": true
   },
   "outputs": [
    {
     "name": "stderr",
     "output_type": "stream",
     "text": [
      "\r",
      "Computing concepts:   0%|          | 0/15 [00:00<?, ?it/s]"
     ]
    },
    {
     "name": "stdout",
     "output_type": "stream",
     "text": [
      "Calculating Φ at state=[0, 0, 0, 0]\n"
     ]
    },
    {
     "name": "stderr",
     "output_type": "stream",
     "text": [
      "                                                                  "
     ]
    },
    {
     "name": "stdout",
     "output_type": "stream",
     "text": [
      "Calculating Φ at state=[1, 0, 0, 0]\n",
      "Calculating Φ at state=[0, 1, 0, 0]\n"
     ]
    },
    {
     "name": "stderr",
     "output_type": "stream",
     "text": [
      "Computing concepts:   0%|          | 0/15 [00:00<?, ?it/s]"
     ]
    },
    {
     "name": "stdout",
     "output_type": "stream",
     "text": [
      "Calculating Φ at state=[1, 1, 0, 0]\n"
     ]
    },
    {
     "name": "stderr",
     "output_type": "stream",
     "text": [
      "                                                                  "
     ]
    },
    {
     "name": "stdout",
     "output_type": "stream",
     "text": [
      "Calculating Φ at state=[0, 0, 1, 0]\n",
      "Calculating Φ at state=[1, 0, 1, 0]\n",
      "Calculating Φ at state=[0, 1, 1, 0]\n",
      "Calculating Φ at state=[1, 1, 1, 0]\n"
     ]
    },
    {
     "name": "stderr",
     "output_type": "stream",
     "text": [
      "\r",
      "\r",
      "Computing concepts:   0%|          | 0/15 [00:00<?, ?it/s]"
     ]
    },
    {
     "name": "stdout",
     "output_type": "stream",
     "text": [
      "Calculating Φ at state=[0, 0, 0, 1]\n",
      "Calculating Φ at state=[1, 0, 0, 1]\n",
      "Calculating Φ at state=[0, 1, 0, 1]\n",
      "Calculating Φ at state=[1, 1, 0, 1]\n",
      "Calculating Φ at state=[0, 0, 1, 1]\n"
     ]
    },
    {
     "name": "stderr",
     "output_type": "stream",
     "text": [
      "                                                                    "
     ]
    },
    {
     "name": "stdout",
     "output_type": "stream",
     "text": [
      "Calculating Φ at state=[1, 0, 1, 1]\n",
      "Calculating Φ at state=[0, 1, 1, 1]"
     ]
    },
    {
     "name": "stderr",
     "output_type": "stream",
     "text": [
      "\r",
      "\r",
      "Computing concepts:   0%|          | 0/15 [00:00<?, ?it/s]"
     ]
    },
    {
     "name": "stdout",
     "output_type": "stream",
     "text": [
      "\n",
      "Calculating Φ at state=[1, 1, 1, 1]\n"
     ]
    },
    {
     "name": "stderr",
     "output_type": "stream",
     "text": [
      "                                                                  \r"
     ]
    }
   ],
   "source": [
    "dd = [(k, get_phi(k)) for k in df.index]"
   ]
  },
  {
   "cell_type": "code",
   "execution_count": 233,
   "metadata": {
    "collapsed": true
   },
   "outputs": [
    {
     "data": {
      "text/plain": [
       "[('0000', 0.0),\n",
       " ('1000', -1),\n",
       " ('0100', -1),\n",
       " ('1100', 0.0),\n",
       " ('0010', -1),\n",
       " ('1010', -1),\n",
       " ('0110', -1),\n",
       " ('1110', -1),\n",
       " ('0001', -1),\n",
       " ('1001', -1),\n",
       " ('0101', -1),\n",
       " ('1101', -1),\n",
       " ('0011', 0.0),\n",
       " ('1011', -1),\n",
       " ('0111', -1),\n",
       " ('1111', 0.0)]"
      ]
     },
     "execution_count": 233,
     "metadata": {},
     "output_type": "execute_result"
    }
   ],
   "source": [
    "dd"
   ]
  },
  {
   "cell_type": "code",
   "execution_count": 234,
   "metadata": {},
   "outputs": [
    {
     "data": {
      "image/png": "[encoded data removed]",
      "text/plain": [
       "<Figure size 432x288 with 1 Axes>"
      ]
     },
     "metadata": {
      "needs_background": "light"
     },
     "output_type": "display_data"
    }
   ],
   "source": [
    "dff = pd.DataFrame(dd)\n",
    "ax = dff.plot.hist(bins=100, grid=True, title='Phi histogram')"
   ]
  },
  {
   "cell_type": "markdown",
   "metadata": {},
   "source": [
    "---"
   ]
  },
  {
   "cell_type": "markdown",
   "metadata": {},
   "source": [
    "## EXPERIMENT 006: Four XOR gates, removing one DIRECTIONAL link"
   ]
  },
  {
   "cell_type": "code",
   "execution_count": 235,
   "metadata": {},
   "outputs": [],
   "source": [
    "edges =  [('A', 'B'), ('A', 'C'), ('A', 'D'),\n",
    "          ('B', 'A'), ('B', 'C'), ('B', 'D'),\n",
    "          ('C', 'A'), ('C', 'B'), ('C', 'D'),\n",
    "          ('D', 'A'), ('D', 'B'),\n",
    "         ]\n",
    "nodes = ['A', 'B', 'C', 'D']\n",
    "funcs = [tb.xor_func, tb.xor_func, tb.xor_func, tb.xor_func]"
   ]
  },
  {
   "cell_type": "code",
   "execution_count": 236,
   "metadata": {},
   "outputs": [
    {
     "name": "stdout",
     "output_type": "stream",
     "text": [
      "edges=[(0, 1), (0, 2), (0, 3), (1, 0), (1, 2), (1, 3), (2, 0), (2, 1), (2, 3), (3, 0), (3, 1)] n_list=[0, 1, 2, 3]\n"
     ]
    },
    {
     "data": {
      "text/plain": [
       "<toolbox.Net at 0x7f9578846160>"
      ]
     },
     "execution_count": 236,
     "metadata": {},
     "output_type": "execute_result"
    },
    {
     "data": {
      "image/png": "[encoded data removed]",
      "text/plain": [
       "<Figure size 432x288 with 1 Axes>"
      ]
     },
     "metadata": {},
     "output_type": "display_data"
    }
   ],
   "source": [
    "net = get_net(edges, nodes, funcs)\n",
    "net.draw()"
   ]
  },
  {
   "cell_type": "code",
   "execution_count": 238,
   "metadata": {},
   "outputs": [],
   "source": [
    "df=net.tpm"
   ]
  },
  {
   "cell_type": "code",
   "execution_count": 239,
   "metadata": {
    "collapsed": true
   },
   "outputs": [
    {
     "name": "stderr",
     "output_type": "stream",
     "text": [
      "\r",
      "Computing concepts:   0%|          | 0/15 [00:00<?, ?it/s]"
     ]
    },
    {
     "name": "stdout",
     "output_type": "stream",
     "text": [
      "Calculating Φ at state=[0, 0, 0, 0]\n"
     ]
    },
    {
     "name": "stderr",
     "output_type": "stream",
     "text": [
      "Computing concepts:   0%|          | 0/15 [00:00<?, ?it/s]         "
     ]
    },
    {
     "name": "stdout",
     "output_type": "stream",
     "text": [
      "Calculating Φ at state=[1, 0, 0, 0]\n",
      "Calculating Φ at state=[0, 1, 0, 0]\n",
      "Calculating Φ at state=[1, 1, 0, 0]\n"
     ]
    },
    {
     "name": "stderr",
     "output_type": "stream",
     "text": [
      "Computing concepts:   0%|          | 0/15 [00:00<?, ?it/s]         "
     ]
    },
    {
     "name": "stdout",
     "output_type": "stream",
     "text": [
      "Calculating Φ at state=[0, 0, 1, 0]\n",
      "Calculating Φ at state=[1, 0, 1, 0]\n"
     ]
    },
    {
     "name": "stderr",
     "output_type": "stream",
     "text": [
      "Computing concepts:   0%|          | 0/15 [00:00<?, ?it/s]         "
     ]
    },
    {
     "name": "stdout",
     "output_type": "stream",
     "text": [
      "Calculating Φ at state=[0, 1, 1, 0]\n"
     ]
    },
    {
     "name": "stderr",
     "output_type": "stream",
     "text": [
      "Computing concepts:   0%|          | 0/15 [00:00<?, ?it/s]         "
     ]
    },
    {
     "name": "stdout",
     "output_type": "stream",
     "text": [
      "Calculating Φ at state=[1, 1, 1, 0]\n",
      "Calculating Φ at state=[0, 0, 0, 1]\n"
     ]
    },
    {
     "name": "stderr",
     "output_type": "stream",
     "text": [
      "Computing concepts:   0%|          | 0/15 [00:00<?, ?it/s]         "
     ]
    },
    {
     "name": "stdout",
     "output_type": "stream",
     "text": [
      "Calculating Φ at state=[1, 0, 0, 1]\n",
      "Calculating Φ at state=[0, 1, 0, 1]\n",
      "Calculating Φ at state=[1, 1, 0, 1]\n"
     ]
    },
    {
     "name": "stderr",
     "output_type": "stream",
     "text": [
      "Computing concepts:   0%|          | 0/15 [00:00<?, ?it/s]         "
     ]
    },
    {
     "name": "stdout",
     "output_type": "stream",
     "text": [
      "Calculating Φ at state=[0, 0, 1, 1]\n",
      "Calculating Φ at state=[1, 0, 1, 1]\n"
     ]
    },
    {
     "name": "stderr",
     "output_type": "stream",
     "text": [
      "Computing concepts:   0%|          | 0/15 [00:00<?, ?it/s]         "
     ]
    },
    {
     "name": "stdout",
     "output_type": "stream",
     "text": [
      "Calculating Φ at state=[0, 1, 1, 1]\n"
     ]
    },
    {
     "name": "stderr",
     "output_type": "stream",
     "text": [
      "                                                                   \r"
     ]
    },
    {
     "name": "stdout",
     "output_type": "stream",
     "text": [
      "Calculating Φ at state=[1, 1, 1, 1]\n"
     ]
    }
   ],
   "source": [
    "dd = [(k, get_phi(k)) for k in df.index]"
   ]
  },
  {
   "cell_type": "code",
   "execution_count": 240,
   "metadata": {
    "scrolled": true
   },
   "outputs": [
    {
     "data": {
      "image/png": "[encoded data removed]",
      "text/plain": [
       "<Figure size 432x288 with 1 Axes>"
      ]
     },
     "metadata": {
      "needs_background": "light"
     },
     "output_type": "display_data"
    }
   ],
   "source": [
    "dff = pd.DataFrame(dd)\n",
    "ax = dff.plot.hist(bins=100, grid=True, title='Phi histogram')"
   ]
  },
  {
   "cell_type": "markdown",
   "metadata": {},
   "source": [
    "---"
   ]
  },
  {
   "cell_type": "code",
   "execution_count": null,
   "metadata": {},
   "outputs": [],
   "source": []
  }
 ],
 "metadata": {
  "kernelspec": {
   "display_name": "Python 3",
   "language": "python",
   "name": "python3"
  },
  "language_info": {
   "codemirror_mode": {
    "name": "ipython",
    "version": 3
   },
   "file_extension": ".py",
   "mimetype": "text/x-python",
   "name": "python",
   "nbconvert_exporter": "python",
   "pygments_lexer": "ipython3",
   "version": "3.6.9"
  }
 },
 "nbformat": 4,
 "nbformat_minor": 4
}
